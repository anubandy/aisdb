{
 "cells": [
  {
   "cell_type": "code",
   "execution_count": 2,
   "metadata": {},
   "outputs": [],
   "source": [
    "import pyedflib\n",
    "import numpy as np"
   ]
  },
  {
   "cell_type": "code",
   "execution_count": 3,
   "metadata": {},
   "outputs": [],
   "source": [
    "import arrow"
   ]
  },
  {
   "cell_type": "code",
   "execution_count": 4,
   "metadata": {},
   "outputs": [],
   "source": [
    "from datetime import datetime as dt\n",
    "from datetime import timedelta as td"
   ]
  },
  {
   "cell_type": "code",
   "execution_count": 5,
   "metadata": {},
   "outputs": [],
   "source": [
    "from bs4 import BeautifulSoup"
   ]
  },
  {
   "cell_type": "code",
   "execution_count": 6,
   "metadata": {},
   "outputs": [],
   "source": [
    "import matplotlib.pyplot as plt"
   ]
  },
  {
   "cell_type": "code",
   "execution_count": 7,
   "metadata": {},
   "outputs": [],
   "source": [
    "f = pyedflib.EdfReader('local-data/chat-baseline-300004.edf')"
   ]
  },
  {
   "cell_type": "code",
   "execution_count": 8,
   "metadata": {},
   "outputs": [],
   "source": [
    "with open('./local-data/chat-baseline-300004-nsrr.xml') as fp:\n",
    "    annot = BeautifulSoup(fp)"
   ]
  },
  {
   "cell_type": "code",
   "execution_count": 9,
   "metadata": {},
   "outputs": [
    {
     "data": {
      "text/plain": [
       "200.00000000000003"
      ]
     },
     "execution_count": 9,
     "metadata": {},
     "output_type": "execute_result"
    }
   ],
   "source": [
    "f.samplefrequency(51)"
   ]
  },
  {
   "cell_type": "code",
   "execution_count": 10,
   "metadata": {},
   "outputs": [
    {
     "data": {
      "text/plain": [
       "37545"
      ]
     },
     "execution_count": 10,
     "metadata": {},
     "output_type": "execute_result"
    }
   ],
   "source": [
    "f.getFileDuration()"
   ]
  },
  {
   "cell_type": "code",
   "execution_count": 11,
   "metadata": {},
   "outputs": [
    {
     "data": {
      "text/plain": [
       "<Arrow [1985-01-01T19:53:10+00:00]>"
      ]
     },
     "execution_count": 11,
     "metadata": {},
     "output_type": "execute_result"
    }
   ],
   "source": [
    "start_dt = arrow.get(f.getStartdatetime())\n",
    "start_dt"
   ]
  },
  {
   "cell_type": "code",
   "execution_count": 12,
   "metadata": {},
   "outputs": [
    {
     "data": {
      "text/plain": [
       "<Arrow [1985-01-02T06:18:55+00:00]>"
      ]
     },
     "execution_count": 12,
     "metadata": {},
     "output_type": "execute_result"
    }
   ],
   "source": [
    "start_dt.shift(seconds=37545)"
   ]
  },
  {
   "cell_type": "code",
   "execution_count": 13,
   "metadata": {},
   "outputs": [],
   "source": [
    "# Uncomment to see the signal details\n",
    "#f.getSignalHeaders()"
   ]
  },
  {
   "cell_type": "code",
   "execution_count": 14,
   "metadata": {},
   "outputs": [],
   "source": [
    "# This is how you cleanup the f object\n",
    "#f._close()\n",
    "#del f"
   ]
  },
  {
   "cell_type": "code",
   "execution_count": 15,
   "metadata": {},
   "outputs": [
    {
     "data": {
      "text/plain": [
       "52"
      ]
     },
     "execution_count": 15,
     "metadata": {},
     "output_type": "execute_result"
    }
   ],
   "source": [
    "n = f.signals_in_file\n",
    "n"
   ]
  },
  {
   "cell_type": "code",
   "execution_count": 16,
   "metadata": {},
   "outputs": [],
   "source": [
    "def read_edf_signals(f, signals):\n",
    "    labels = f.getSignalLabels()\n",
    "    indices = [labels.index(signal) for signal in signals]\n",
    "    sigbufs = np.zeros((len(signals), f.getNSamples()[0]))\n",
    "    for i, signal_index in enumerate(indices):\n",
    "        print(f\"read {i} from {signal_index}\")\n",
    "        sigbufs[i, :] = f.readSignal(signal_index)\n",
    "    f._close()\n",
    "    return sigbufs"
   ]
  },
  {
   "cell_type": "code",
   "execution_count": 17,
   "metadata": {},
   "outputs": [],
   "source": [
    "def read_edf_signals_file(filename, signals):\n",
    "    f = pyedflib.EdfReader(filename)\n",
    "    return read_edf_signals(f, signals)"
   ]
  },
  {
   "cell_type": "code",
   "execution_count": 18,
   "metadata": {},
   "outputs": [],
   "source": [
    "def read_sleep_stages(total_duration, scored_events):\n",
    "    #print(len(scored_events))\n",
    "    stages = np.zeros(total_duration)\n",
    "    for event in scored_events:\n",
    "        event_type = event.eventtype.text.split('|')[0]\n",
    "        if event_type == 'Stages':\n",
    "            #print('type:', event_type)\n",
    "            #print('concept:', event.eventconcept.text)\n",
    "            #print('start:', event.start.text)\n",
    "            #print('duration:', event.duration.text)\n",
    "            concept = event.eventconcept.text.split('|')\n",
    "            stage = concept[0]\n",
    "            stage_no = int(concept[1])\n",
    "            start = int(float(event.start.text))\n",
    "            duration = int(float(event.duration.text))\n",
    "            stages[start:start+duration] = stage_no\n",
    "    return stages"
   ]
  },
  {
   "cell_type": "code",
   "execution_count": 19,
   "metadata": {},
   "outputs": [
    {
     "data": {
      "text/plain": [
       "37545"
      ]
     },
     "execution_count": 19,
     "metadata": {},
     "output_type": "execute_result"
    }
   ],
   "source": [
    "annot_duration = int(float(annot.scoredevents.scoredevent.duration.text))\n",
    "annot_duration"
   ]
  },
  {
   "cell_type": "code",
   "execution_count": null,
   "metadata": {},
   "outputs": [],
   "source": []
  },
  {
   "cell_type": "code",
   "execution_count": 20,
   "metadata": {},
   "outputs": [
    {
     "name": "stdout",
     "output_type": "stream",
     "text": [
      "read 0 from 34\n",
      "read 1 from 33\n",
      "read 2 from 49\n"
     ]
    }
   ],
   "source": [
    "sigs = read_edf_signals(f, ['ABD', 'Chest', 'SAO2'])\n",
    "#sigs = read_edf_signals_file('local-data/chat-baseline-300004.edf', ['ABD', 'Chest', 'SAO2'])"
   ]
  },
  {
   "cell_type": "code",
   "execution_count": 21,
   "metadata": {},
   "outputs": [],
   "source": [
    "stages = read_sleep_stages(annot_duration, annot.scoredevents.find_all('scoredevent'))"
   ]
  },
  {
   "cell_type": "code",
   "execution_count": 27,
   "metadata": {},
   "outputs": [
    {
     "data": {
      "text/plain": [
       "(3, 7509000)"
      ]
     },
     "execution_count": 27,
     "metadata": {},
     "output_type": "execute_result"
    }
   ],
   "source": [
    "sigs.shape"
   ]
  },
  {
   "cell_type": "code",
   "execution_count": 28,
   "metadata": {},
   "outputs": [],
   "source": [
    "from scipy.signal import hilbert"
   ]
  },
  {
   "cell_type": "code",
   "execution_count": 29,
   "metadata": {},
   "outputs": [],
   "source": [
    "freq = 200\n"
   ]
  },
  {
   "cell_type": "code",
   "execution_count": 25,
   "metadata": {},
   "outputs": [
    {
     "ename": "NameError",
     "evalue": "name 'sin' is not defined",
     "output_type": "error",
     "traceback": [
      "\u001b[0;31m---------------------------------------------------------------------------\u001b[0m",
      "\u001b[0;31mNameError\u001b[0m                                 Traceback (most recent call last)",
      "\u001b[0;32m<ipython-input-25-e4c3603f0346>\u001b[0m in \u001b[0;36m<module>\u001b[0;34m\u001b[0m\n\u001b[1;32m      1\u001b[0m \u001b[0;31m# https://stackoverflow.com/questions/27545171/identifying-phase-shift-between-signals\u001b[0m\u001b[0;34m\u001b[0m\u001b[0;34m\u001b[0m\u001b[0;34m\u001b[0m\u001b[0m\n\u001b[0;32m----> 2\u001b[0;31m \u001b[0mx1\u001b[0m \u001b[0;34m=\u001b[0m \u001b[0msin\u001b[0m\u001b[0;34m(\u001b[0m \u001b[0;36m0.1\u001b[0m\u001b[0;34m*\u001b[0m\u001b[0marange\u001b[0m\u001b[0;34m(\u001b[0m\u001b[0;36m1024\u001b[0m\u001b[0;34m)\u001b[0m \u001b[0;34m)\u001b[0m\u001b[0;34m\u001b[0m\u001b[0;34m\u001b[0m\u001b[0m\n\u001b[0m\u001b[1;32m      3\u001b[0m \u001b[0mx2\u001b[0m \u001b[0;34m=\u001b[0m \u001b[0msin\u001b[0m\u001b[0;34m(\u001b[0m \u001b[0;36m0.1\u001b[0m\u001b[0;34m*\u001b[0m\u001b[0marange\u001b[0m\u001b[0;34m(\u001b[0m\u001b[0;36m1024\u001b[0m\u001b[0;34m)\u001b[0m \u001b[0;34m+\u001b[0m \u001b[0;36m0.456\u001b[0m\u001b[0;34m)\u001b[0m\u001b[0;34m\u001b[0m\u001b[0;34m\u001b[0m\u001b[0m\n\u001b[1;32m      4\u001b[0m \u001b[0mx1h\u001b[0m \u001b[0;34m=\u001b[0m \u001b[0mhilbert\u001b[0m\u001b[0;34m(\u001b[0m\u001b[0mx1\u001b[0m\u001b[0;34m)\u001b[0m\u001b[0;34m\u001b[0m\u001b[0;34m\u001b[0m\u001b[0m\n\u001b[1;32m      5\u001b[0m \u001b[0mx2h\u001b[0m \u001b[0;34m=\u001b[0m \u001b[0mhilbert\u001b[0m\u001b[0;34m(\u001b[0m\u001b[0mx2\u001b[0m\u001b[0;34m)\u001b[0m\u001b[0;34m\u001b[0m\u001b[0;34m\u001b[0m\u001b[0m\n",
      "\u001b[0;31mNameError\u001b[0m: name 'sin' is not defined"
     ]
    }
   ],
   "source": [
    "# https://stackoverflow.com/questions/27545171/identifying-phase-shift-between-signals\n",
    "x1 = sin( 0.1*arange(1024) )\n",
    "x2 = sin( 0.1*arange(1024) + 0.456)\n",
    "x1h = hilbert(x1)\n",
    "x2h = hilbert(x2)\n",
    "c = inner( x1h, conj(x2h) ) / sqrt( inner(x1h,conj(x1h)) * inner(x2h,conj(x2h)) )\n",
    "phase_diff = angle(c)"
   ]
  },
  {
   "cell_type": "markdown",
   "metadata": {},
   "source": [
    "### Phase angle: Method 1 - looks OK\n",
    "\n",
    "Issues:\n",
    "\n",
    "* Window is a left-window. Center-windowing would be better\n",
    "* The TAA is calculated once for each window, we could also calculate for every second\n",
    "* Math from stack overflow - need to verify"
   ]
  },
  {
   "cell_type": "code",
   "execution_count": 31,
   "metadata": {},
   "outputs": [
    {
     "ename": "ValueError",
     "evalue": "N must be positive.",
     "output_type": "error",
     "traceback": [
      "\u001b[0;31m---------------------------------------------------------------------------\u001b[0m",
      "\u001b[0;31mValueError\u001b[0m                                Traceback (most recent call last)",
      "\u001b[0;32m<ipython-input-31-75494e344f46>\u001b[0m in \u001b[0;36m<module>\u001b[0;34m\u001b[0m\n\u001b[1;32m     11\u001b[0m     \u001b[0mj\u001b[0m \u001b[0;34m=\u001b[0m \u001b[0mmax\u001b[0m\u001b[0;34m(\u001b[0m\u001b[0mi\u001b[0m \u001b[0;34m*\u001b[0m \u001b[0mx_stride\u001b[0m \u001b[0;34m-\u001b[0m \u001b[0mhalf_x_stride\u001b[0m\u001b[0;34m,\u001b[0m \u001b[0;36m0\u001b[0m\u001b[0;34m)\u001b[0m\u001b[0;34m\u001b[0m\u001b[0;34m\u001b[0m\u001b[0m\n\u001b[1;32m     12\u001b[0m     \u001b[0mj_end\u001b[0m \u001b[0;34m=\u001b[0m \u001b[0mmin\u001b[0m\u001b[0;34m(\u001b[0m\u001b[0mi\u001b[0m \u001b[0;34m*\u001b[0m \u001b[0mx_stride\u001b[0m \u001b[0;34m-\u001b[0m \u001b[0mhalf_x_stride\u001b[0m\u001b[0;34m,\u001b[0m \u001b[0mxlen\u001b[0m\u001b[0;34m)\u001b[0m\u001b[0;34m\u001b[0m\u001b[0;34m\u001b[0m\u001b[0m\n\u001b[0;32m---> 13\u001b[0;31m     \u001b[0mx1_h\u001b[0m \u001b[0;34m=\u001b[0m \u001b[0mhilbert\u001b[0m\u001b[0;34m(\u001b[0m\u001b[0mx1\u001b[0m\u001b[0;34m[\u001b[0m\u001b[0mj\u001b[0m\u001b[0;34m:\u001b[0m\u001b[0mj_end\u001b[0m\u001b[0;34m]\u001b[0m\u001b[0;34m)\u001b[0m\u001b[0;34m\u001b[0m\u001b[0;34m\u001b[0m\u001b[0m\n\u001b[0m\u001b[1;32m     14\u001b[0m     \u001b[0mx2_h\u001b[0m \u001b[0;34m=\u001b[0m \u001b[0mhilbert\u001b[0m\u001b[0;34m(\u001b[0m\u001b[0mx2\u001b[0m\u001b[0;34m[\u001b[0m\u001b[0mj\u001b[0m\u001b[0;34m:\u001b[0m\u001b[0mj_end\u001b[0m\u001b[0;34m]\u001b[0m\u001b[0;34m)\u001b[0m\u001b[0;34m\u001b[0m\u001b[0;34m\u001b[0m\u001b[0m\n\u001b[1;32m     15\u001b[0m     \u001b[0mc\u001b[0m \u001b[0;34m=\u001b[0m \u001b[0mnp\u001b[0m\u001b[0;34m.\u001b[0m\u001b[0minner\u001b[0m\u001b[0;34m(\u001b[0m\u001b[0mx1_h\u001b[0m\u001b[0;34m,\u001b[0m \u001b[0mnp\u001b[0m\u001b[0;34m.\u001b[0m\u001b[0mconj\u001b[0m\u001b[0;34m(\u001b[0m\u001b[0mx2_h\u001b[0m\u001b[0;34m)\u001b[0m\u001b[0;34m)\u001b[0m \u001b[0;34m/\u001b[0m \u001b[0mnp\u001b[0m\u001b[0;34m.\u001b[0m\u001b[0msqrt\u001b[0m\u001b[0;34m(\u001b[0m\u001b[0mnp\u001b[0m\u001b[0;34m.\u001b[0m\u001b[0minner\u001b[0m\u001b[0;34m(\u001b[0m\u001b[0mx1_h\u001b[0m\u001b[0;34m,\u001b[0m \u001b[0mnp\u001b[0m\u001b[0;34m.\u001b[0m\u001b[0mconj\u001b[0m\u001b[0;34m(\u001b[0m\u001b[0mx1_h\u001b[0m\u001b[0;34m)\u001b[0m\u001b[0;34m)\u001b[0m \u001b[0;34m*\u001b[0m \u001b[0mnp\u001b[0m\u001b[0;34m.\u001b[0m\u001b[0minner\u001b[0m\u001b[0;34m(\u001b[0m\u001b[0mx2_h\u001b[0m\u001b[0;34m,\u001b[0m\u001b[0mnp\u001b[0m\u001b[0;34m.\u001b[0m\u001b[0mconj\u001b[0m\u001b[0;34m(\u001b[0m\u001b[0mx2_h\u001b[0m\u001b[0;34m)\u001b[0m\u001b[0;34m)\u001b[0m\u001b[0;34m)\u001b[0m\u001b[0;34m\u001b[0m\u001b[0;34m\u001b[0m\u001b[0m\n",
      "\u001b[0;32m~/files/study/iums/d590_dsip/AISDB/aisdb/.venv/lib/python3.7/site-packages/scipy/signal/signaltools.py\u001b[0m in \u001b[0;36mhilbert\u001b[0;34m(x, N, axis)\u001b[0m\n\u001b[1;32m   1620\u001b[0m         \u001b[0mN\u001b[0m \u001b[0;34m=\u001b[0m \u001b[0mx\u001b[0m\u001b[0;34m.\u001b[0m\u001b[0mshape\u001b[0m\u001b[0;34m[\u001b[0m\u001b[0maxis\u001b[0m\u001b[0;34m]\u001b[0m\u001b[0;34m\u001b[0m\u001b[0;34m\u001b[0m\u001b[0m\n\u001b[1;32m   1621\u001b[0m     \u001b[0;32mif\u001b[0m \u001b[0mN\u001b[0m \u001b[0;34m<=\u001b[0m \u001b[0;36m0\u001b[0m\u001b[0;34m:\u001b[0m\u001b[0;34m\u001b[0m\u001b[0;34m\u001b[0m\u001b[0m\n\u001b[0;32m-> 1622\u001b[0;31m         \u001b[0;32mraise\u001b[0m \u001b[0mValueError\u001b[0m\u001b[0;34m(\u001b[0m\u001b[0;34m\"N must be positive.\"\u001b[0m\u001b[0;34m)\u001b[0m\u001b[0;34m\u001b[0m\u001b[0;34m\u001b[0m\u001b[0m\n\u001b[0m\u001b[1;32m   1623\u001b[0m \u001b[0;34m\u001b[0m\u001b[0m\n\u001b[1;32m   1624\u001b[0m     \u001b[0mXf\u001b[0m \u001b[0;34m=\u001b[0m \u001b[0mfftpack\u001b[0m\u001b[0;34m.\u001b[0m\u001b[0mfft\u001b[0m\u001b[0;34m(\u001b[0m\u001b[0mx\u001b[0m\u001b[0;34m,\u001b[0m \u001b[0mN\u001b[0m\u001b[0;34m,\u001b[0m \u001b[0maxis\u001b[0m\u001b[0;34m=\u001b[0m\u001b[0maxis\u001b[0m\u001b[0;34m)\u001b[0m\u001b[0;34m\u001b[0m\u001b[0;34m\u001b[0m\u001b[0m\n",
      "\u001b[0;31mValueError\u001b[0m: N must be positive."
     ]
    }
   ],
   "source": [
    "x1 = sigs[0,:]\n",
    "x2 = sigs[1,:]\n",
    "win_size = 3\n",
    "x_stride = win_size*freq\n",
    "half_x_stride = x_stride // 2\n",
    "xlen = len(x1)\n",
    "win_count = int(np.ceil(xlen/x_stride))\n",
    "secs = int(len(x1)/freq)\n",
    "taa = np.zeros(secs)\n",
    "for i in range(win_count):\n",
    "    j = max(i * x_stride - half_x_stride, 0)\n",
    "    j_end = min(i * x_stride - half_x_stride, xlen)\n",
    "    x1_h = hilbert(x1[j:j_end])\n",
    "    x2_h = hilbert(x2[j:j_end])\n",
    "    c = np.inner(x1_h, np.conj(x2_h)) / np.sqrt(np.inner(x1_h, np.conj(x1_h)) * np.inner(x2_h,np.conj(x2_h)))\n",
    "    phase_angle = np.angle(c)\n",
    "    #phase_angle = np.arctan(c)\n",
    "    taa[i*win_size:i*win_size+win_size] = phase_angle"
   ]
  },
  {
   "cell_type": "markdown",
   "metadata": {},
   "source": [
    "### Phase angle: Method 2 - not correct yet"
   ]
  },
  {
   "cell_type": "code",
   "execution_count": null,
   "metadata": {},
   "outputs": [],
   "source": [
    "#x1_h = hilbert(x1)\n",
    "#x2_h = hilbert(x2)\n",
    "#x1_r = np.real(x1_h)\n",
    "#x1_i = np.imag(x1_h)\n",
    "#x2_r = np.real(x2_h)\n",
    "#x2_i = np.imag(x2_h)\n",
    "\n",
    "#numer = x1*x2_h - x2*x1_h\n",
    "#denom = x1*x2 + x1_h*x2_h\n",
    "\n",
    "numer = x1_r*x2_i - x2_r*x1_i\n",
    "denom = x1_r*x2_r + x1_i*x2_i\n",
    "taa = np.arctan2(numer, denom)"
   ]
  },
  {
   "cell_type": "code",
   "execution_count": 67,
   "metadata": {},
   "outputs": [],
   "source": []
  },
  {
   "cell_type": "code",
   "execution_count": 33,
   "metadata": {},
   "outputs": [
    {
     "data": {
      "text/plain": [
       "[<matplotlib.lines.Line2D at 0x10e72ddd0>]"
      ]
     },
     "execution_count": 33,
     "metadata": {},
     "output_type": "execute_result"
    },
    {
     "data": {
      "image/png": "[encoded data removed]",
      "text/plain": [
       "<Figure size 1152x1152 with 3 Axes>"
      ]
     },
     "metadata": {
      "needs_background": "light"
     },
     "output_type": "display_data"
    }
   ],
   "source": [
    "plt.figure(figsize=(16,16))\n",
    "freq = 200\n",
    "window_len = 30\n",
    "start_time = 5_600\n",
    "start_time = 8_500\n",
    "start_time = 11_474\n",
    "start_time = 0\n",
    "plot_range = np.arange(start_time*freq, (start_time+window_len)*freq)\n",
    "\n",
    "time_range = np.empty_like(plot_range, dtype='datetime64[ms]')\n",
    "for i in range(len(plot_range)):\n",
    "    time_range[i] = start_dt.naive + td(milliseconds=plot_range[i]*1/freq*1000)\n",
    "\n",
    "# sleep stage is different resolution\n",
    "ss_time_range = np.empty(window_len, dtype='datetime64[ms]')\n",
    "for i in range(window_len):\n",
    "    ss_time_range[i] = start_dt.naive + td(seconds=start_time+i)\n",
    "    \n",
    "    \n",
    "plt.subplot(411)\n",
    "plt.title('Sleep Stage')\n",
    "plt.ylim((-0.2,5.2))\n",
    "plt.yticks(range(6), ['Awake 0', 'Sleep 1', 'Sleep 2', 'Sleep 3', 'Sleep 4', 'REM Sleep 5'])\n",
    "plt.plot(ss_time_range, stages[start_time:start_time+window_len])\n",
    "\n",
    "plt.subplot(412)\n",
    "plt.title('ABD')\n",
    "plt.plot(time_range, sigs[0,plot_range])\n",
    "#plt.subplot(413)\n",
    "#plt.title('Chest')\n",
    "plt.plot(time_range, sigs[1,plot_range])\n",
    "plt.subplot(413)\n",
    "plt.title('TAA')\n",
    "plt.plot(ss_time_range, taa[start_time:start_time+window_len])\n",
    "\n",
    "\n",
    "\n",
    "#plt.title('SAO2')\n",
    "#plt.plot(time_range, sigs[2,plot_range])\n"
   ]
  },
  {
   "cell_type": "code",
   "execution_count": 21,
   "metadata": {},
   "outputs": [
    {
     "data": {
      "text/plain": [
       "[('Event', 0),\n",
       " ('C3', 1),\n",
       " ('C4', 2),\n",
       " ('O1', 3),\n",
       " ('O2', 4),\n",
       " ('M1', 5),\n",
       " ('M2', 6),\n",
       " ('Cchin', 7),\n",
       " ('F3', 8),\n",
       " ('F4', 9),\n",
       " ('F7', 10),\n",
       " ('F8', 11),\n",
       " ('Fz', 12),\n",
       " ('Fp1', 13),\n",
       " ('Fp2', 14),\n",
       " ('Fpz', 15),\n",
       " ('P3', 16),\n",
       " ('P4', 17),\n",
       " ('ECG3', 18),\n",
       " ('T3', 19),\n",
       " ('T4', 20),\n",
       " ('T5', 21),\n",
       " ('T6', 22),\n",
       " ('E1', 23),\n",
       " ('E2', 24),\n",
       " ('Lchin', 25),\n",
       " ('Rchin', 26),\n",
       " ('ECG2', 27),\n",
       " ('ECG1', 28),\n",
       " ('Lleg1', 29),\n",
       " ('Lleg2', 30),\n",
       " ('Rleg1', 31),\n",
       " ('Rleg2', 32),\n",
       " ('Chest', 33),\n",
       " ('ABD', 34),\n",
       " ('Airflow', 35),\n",
       " ('Snore', 36),\n",
       " ('CannulaFlow', 37),\n",
       " ('SUM', 38),\n",
       " ('Position', 39),\n",
       " ('DC2', 40),\n",
       " ('DC3', 41),\n",
       " ('DC4', 42),\n",
       " ('CPress', 43),\n",
       " ('CFlow', 44),\n",
       " ('Cap', 45),\n",
       " ('EtCO2', 46),\n",
       " ('EXTSAT', 47),\n",
       " ('Pleth', 48),\n",
       " ('SAO2', 49),\n",
       " ('PR', 50),\n",
       " ('DHR', 51)]"
      ]
     },
     "execution_count": 21,
     "metadata": {},
     "output_type": "execute_result"
    }
   ],
   "source": [
    "signal_labels = f.getSignalLabels()\n",
    "list(zip(signal_labels, range(len(signal_labels))))"
   ]
  },
  {
   "cell_type": "code",
   "execution_count": 22,
   "metadata": {},
   "outputs": [
    {
     "data": {
      "text/plain": [
       "array([7509000, 7509000, 7509000, 7509000, 7509000, 7509000, 7509000,\n",
       "       7509000, 7509000, 7509000, 7509000, 7509000, 7509000, 7509000,\n",
       "       7509000, 7509000, 7509000, 7509000, 7509000, 7509000, 7509000,\n",
       "       7509000, 7509000, 7509000, 7509000, 7509000, 7509000, 7509000,\n",
       "       7509000, 7509000, 7509000, 7509000, 7509000, 7509000, 7509000,\n",
       "       7509000, 7509000, 7509000, 7509000, 7509000, 7509000, 7509000,\n",
       "       7509000, 7509000, 7509000, 7509000, 7509000, 7509000, 7509000,\n",
       "       7509000, 7509000, 7509000])"
      ]
     },
     "execution_count": 22,
     "metadata": {},
     "output_type": "execute_result"
    }
   ],
   "source": [
    "f.getNSamples()"
   ]
  },
  {
   "cell_type": "code",
   "execution_count": null,
   "metadata": {},
   "outputs": [],
   "source": []
  }
 ],
 "metadata": {
  "kernelspec": {
   "display_name": "Python 3",
   "language": "python",
   "name": "python3"
  },
  "language_info": {
   "codemirror_mode": {
    "name": "ipython",
    "version": 3
   },
   "file_extension": ".py",
   "mimetype": "text/x-python",
   "name": "python",
   "nbconvert_exporter": "python",
   "pygments_lexer": "ipython3",
   "version": "3.7.4"
  }
 },
 "nbformat": 4,
 "nbformat_minor": 4
}
