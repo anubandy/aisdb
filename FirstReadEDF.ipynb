{
 "cells": [
  {
   "cell_type": "code",
   "execution_count": 35,
   "metadata": {},
   "outputs": [],
   "source": [
    "import pyedflib\n",
    "import numpy as np\n",
    "import pandas as pd"
   ]
  },
  {
   "cell_type": "code",
   "execution_count": 36,
   "metadata": {},
   "outputs": [],
   "source": [
    "import importlib"
   ]
  },
  {
   "cell_type": "code",
   "execution_count": 37,
   "metadata": {},
   "outputs": [],
   "source": [
    "import scipy.signal as signal\n",
    "\n",
    "from scipy.signal import hilbert"
   ]
  },
  {
   "cell_type": "code",
   "execution_count": 38,
   "metadata": {},
   "outputs": [],
   "source": [
    "import arrow"
   ]
  },
  {
   "cell_type": "code",
   "execution_count": 39,
   "metadata": {},
   "outputs": [],
   "source": [
    "from datetime import datetime as dt\n",
    "from datetime import timedelta as td"
   ]
  },
  {
   "cell_type": "code",
   "execution_count": 40,
   "metadata": {},
   "outputs": [],
   "source": [
    "from bs4 import BeautifulSoup"
   ]
  },
  {
   "cell_type": "code",
   "execution_count": 41,
   "metadata": {},
   "outputs": [],
   "source": [
    "import matplotlib.pyplot as plt"
   ]
  },
  {
   "cell_type": "code",
   "execution_count": 169,
   "metadata": {},
   "outputs": [],
   "source": [
    "import taa_calc\n",
    "importlib.reload(taa_calc)\n",
    "from taa_calc import (\n",
    "    get_edf_signal_indices,\n",
    "    read_edf_signals,\n",
    "    read_edf_signals_file,\n",
    "    get_edf_frequencies,\n",
    "    resample_signals,\n",
    "    preprocess,\n",
    "    fund_freq,\n",
    "    avg_resp_period,\n",
    "    calc_windows,\n",
    "    calc_taa,\n",
    "    read_sleep_stages,\n",
    "    read_resp_events,\n",
    "    chart_taa,\n",
    "    compute_perc_taa,\n",
    "    read_files,\n",
    ")"
   ]
  },
  {
   "cell_type": "markdown",
   "metadata": {},
   "source": [
    "## Test with 300004"
   ]
  },
  {
   "cell_type": "code",
   "execution_count": 173,
   "metadata": {},
   "outputs": [],
   "source": [
    "edf_id = \"300004\"\n",
    "edf_id = \"300013\"\n",
    "edf_id = \"300066\" # freq 32 but seems incorrect\n",
    "# edf_id = \"300132\""
   ]
  },
  {
   "cell_type": "code",
   "execution_count": 174,
   "metadata": {},
   "outputs": [],
   "source": [
    "f = pyedflib.EdfReader(f'local-data/chat/polysomnography/edfs/baseline/chat-baseline-{edf_id}.edf')"
   ]
  },
  {
   "cell_type": "code",
   "execution_count": 175,
   "metadata": {},
   "outputs": [],
   "source": [
    "with open(f'./local-data/chat/polysomnography/annotations-events-nsrr/baseline//chat-baseline-{edf_id}-nsrr.xml') as fp:\n",
    "    annot = BeautifulSoup(fp)"
   ]
  },
  {
   "cell_type": "code",
   "execution_count": 176,
   "metadata": {},
   "outputs": [
    {
     "data": {
      "text/plain": [
       "0.0"
      ]
     },
     "execution_count": 176,
     "metadata": {},
     "output_type": "execute_result"
    }
   ],
   "source": [
    "f.samplefrequency(51)"
   ]
  },
  {
   "cell_type": "code",
   "execution_count": 177,
   "metadata": {},
   "outputs": [
    {
     "data": {
      "text/plain": [
       "35419"
      ]
     },
     "execution_count": 177,
     "metadata": {},
     "output_type": "execute_result"
    }
   ],
   "source": [
    "f.getFileDuration()"
   ]
  },
  {
   "cell_type": "code",
   "execution_count": 178,
   "metadata": {},
   "outputs": [
    {
     "data": {
      "text/plain": [
       "datetime.datetime(1985, 1, 1, 20, 15, 33)"
      ]
     },
     "execution_count": 178,
     "metadata": {},
     "output_type": "execute_result"
    }
   ],
   "source": [
    "f.getStartdatetime()"
   ]
  },
  {
   "cell_type": "code",
   "execution_count": 179,
   "metadata": {},
   "outputs": [
    {
     "data": {
      "text/plain": [
       "<Arrow [1985-01-01T20:15:33+00:00]>"
      ]
     },
     "execution_count": 179,
     "metadata": {},
     "output_type": "execute_result"
    }
   ],
   "source": [
    "# The date information is nonsense, but the time is correct\n",
    "start_dt = arrow.get(f.getStartdatetime())\n",
    "start_dt"
   ]
  },
  {
   "cell_type": "code",
   "execution_count": 180,
   "metadata": {},
   "outputs": [
    {
     "data": {
      "text/plain": [
       "<Arrow [1985-01-02T06:41:18+00:00]>"
      ]
     },
     "execution_count": 180,
     "metadata": {},
     "output_type": "execute_result"
    }
   ],
   "source": [
    "start_dt.shift(seconds=37545)"
   ]
  },
  {
   "cell_type": "code",
   "execution_count": 181,
   "metadata": {},
   "outputs": [
    {
     "data": {
      "text/plain": [
       "datetime.time(20, 15, 33)"
      ]
     },
     "execution_count": 181,
     "metadata": {},
     "output_type": "execute_result"
    }
   ],
   "source": [
    "start_dt.time()"
   ]
  },
  {
   "cell_type": "code",
   "execution_count": 182,
   "metadata": {},
   "outputs": [],
   "source": [
    "# Uncomment to see the signal details\n",
    "#f.getSignalHeaders()"
   ]
  },
  {
   "cell_type": "code",
   "execution_count": 183,
   "metadata": {},
   "outputs": [],
   "source": [
    "# This is how you cleanup the f object\n",
    "#f._close()\n",
    "#del f"
   ]
  },
  {
   "cell_type": "code",
   "execution_count": 184,
   "metadata": {},
   "outputs": [
    {
     "data": {
      "text/plain": [
       "38"
      ]
     },
     "execution_count": 184,
     "metadata": {},
     "output_type": "execute_result"
    }
   ],
   "source": [
    "n = f.signals_in_file\n",
    "n"
   ]
  },
  {
   "cell_type": "code",
   "execution_count": 185,
   "metadata": {},
   "outputs": [
    {
     "data": {
      "text/plain": [
       "35419"
      ]
     },
     "execution_count": 185,
     "metadata": {},
     "output_type": "execute_result"
    }
   ],
   "source": [
    "annot_duration = int(float(annot.scoredevents.scoredevent.duration.text))\n",
    "annot_duration"
   ]
  },
  {
   "cell_type": "code",
   "execution_count": 186,
   "metadata": {},
   "outputs": [],
   "source": [
    "sigs = read_edf_signals(f, ['ABD', 'Chest'])\n",
    "f._close()\n",
    "#sigs = read_edf_signals_file('local-data/chat-baseline-300004.edf', ['ABD', 'Chest', 'SAO2'])"
   ]
  },
  {
   "cell_type": "code",
   "execution_count": 187,
   "metadata": {},
   "outputs": [
    {
     "data": {
      "text/plain": [
       "32"
      ]
     },
     "execution_count": 187,
     "metadata": {},
     "output_type": "execute_result"
    }
   ],
   "source": [
    "freqs = get_edf_frequencies(f, ['ABD', 'Chest'])\n",
    "assert freqs[0] == freqs[1]\n",
    "freq = freqs[0]\n",
    "freq"
   ]
  },
  {
   "cell_type": "code",
   "execution_count": 188,
   "metadata": {},
   "outputs": [],
   "source": [
    "abd, chest = preprocess(sigs[0], sigs[1], orig_freq=freq)"
   ]
  },
  {
   "cell_type": "code",
   "execution_count": 190,
   "metadata": {},
   "outputs": [
    {
     "data": {
      "text/plain": [
       "4.0"
      ]
     },
     "execution_count": 190,
     "metadata": {},
     "output_type": "execute_result"
    }
   ],
   "source": [
    "avg_resp_period(abd, chest)"
   ]
  },
  {
   "cell_type": "code",
   "execution_count": 191,
   "metadata": {},
   "outputs": [
    {
     "name": "stdout",
     "output_type": "stream",
     "text": [
      "avg resp period 4.0 win 12.0 step size 1.0\n",
      "CPU times: user 19.9 s, sys: 267 ms, total: 20.1 s\n",
      "Wall time: 20.1 s\n"
     ]
    }
   ],
   "source": [
    "%%time\n",
    "taa, taa_valid, taa_freq = calc_taa(abd, chest)"
   ]
  },
  {
   "cell_type": "code",
   "execution_count": 192,
   "metadata": {},
   "outputs": [
    {
     "name": "stdout",
     "output_type": "stream",
     "text": [
      "35408 1.0 1957\n"
     ]
    }
   ],
   "source": [
    "print(len(taa), taa_freq, np.sum(taa_valid != 0))"
   ]
  },
  {
   "cell_type": "code",
   "execution_count": 193,
   "metadata": {},
   "outputs": [
    {
     "name": "stdout",
     "output_type": "stream",
     "text": [
      "1392\n"
     ]
    }
   ],
   "source": [
    "# Noisy abdomen signals\n",
    "print(np.sum(taa_valid & 1 != 0))"
   ]
  },
  {
   "cell_type": "code",
   "execution_count": 194,
   "metadata": {},
   "outputs": [
    {
     "name": "stdout",
     "output_type": "stream",
     "text": [
      "812\n"
     ]
    }
   ],
   "source": [
    "# Noisy chest signals\n",
    "print(np.sum(taa_valid & 2 != 0))"
   ]
  },
  {
   "cell_type": "code",
   "execution_count": 200,
   "metadata": {},
   "outputs": [
    {
     "name": "stdout",
     "output_type": "stream",
     "text": [
      "1923\n"
     ]
    }
   ],
   "source": [
    "# abdomen or chest noisy signal\n",
    "print(np.sum((taa_valid & 3) != 0))"
   ]
  },
  {
   "cell_type": "code",
   "execution_count": 201,
   "metadata": {},
   "outputs": [
    {
     "name": "stdout",
     "output_type": "stream",
     "text": [
      "147\n"
     ]
    }
   ],
   "source": [
    "# abdomen frequency out of range\n",
    "print(np.sum(taa_valid & 4 != 0))"
   ]
  },
  {
   "cell_type": "code",
   "execution_count": 202,
   "metadata": {},
   "outputs": [
    {
     "name": "stdout",
     "output_type": "stream",
     "text": [
      "48\n"
     ]
    }
   ],
   "source": [
    "# chest frequency out of range\n",
    "print(np.sum(taa_valid & 8 != 0))"
   ]
  },
  {
   "cell_type": "code",
   "execution_count": 203,
   "metadata": {},
   "outputs": [
    {
     "name": "stdout",
     "output_type": "stream",
     "text": [
      "191\n"
     ]
    }
   ],
   "source": [
    "# abdomen or chest frequency out of range\n",
    "print(np.sum((taa_valid & 12) != 0))"
   ]
  },
  {
   "cell_type": "code",
   "execution_count": 204,
   "metadata": {},
   "outputs": [
    {
     "name": "stdout",
     "output_type": "stream",
     "text": [
      "191\n"
     ]
    }
   ],
   "source": [
    "# disparity between chest and abdominal frequencies\n",
    "print(np.sum(taa_valid & 16 != 0))"
   ]
  },
  {
   "cell_type": "code",
   "execution_count": 205,
   "metadata": {},
   "outputs": [],
   "source": [
    "stages = read_sleep_stages(annot_duration, annot.scoredevents.find_all('scoredevent'))"
   ]
  },
  {
   "cell_type": "code",
   "execution_count": 206,
   "metadata": {},
   "outputs": [],
   "source": [
    "resp_events = read_resp_events(annot_duration, annot.scoredevents.find_all('scoredevent'))"
   ]
  },
  {
   "cell_type": "code",
   "execution_count": 207,
   "metadata": {},
   "outputs": [
    {
     "data": {
      "text/plain": [
       "(35408, 35419, 35419)"
      ]
     },
     "execution_count": 207,
     "metadata": {},
     "output_type": "execute_result"
    }
   ],
   "source": [
    "len(taa), len(stages), len(resp_events)"
   ]
  },
  {
   "cell_type": "code",
   "execution_count": 213,
   "metadata": {},
   "outputs": [
    {
     "data": {
      "text/plain": [
       "array([1, 1, 1, 1, 1, 1, 1, 1, 2, 2, 2, 2, 2, 2, 2, 2, 3, 3, 3, 3, 3, 3,\n",
       "       3, 3])"
      ]
     },
     "execution_count": 213,
     "metadata": {},
     "output_type": "execute_result"
    }
   ],
   "source": [
    "np.repeat(np.array([1, 2, 3]), 8)"
   ]
  },
  {
   "cell_type": "code",
   "execution_count": 216,
   "metadata": {},
   "outputs": [
    {
     "data": {
      "text/plain": [
       "(2266816, 2266816)"
      ]
     },
     "execution_count": 216,
     "metadata": {},
     "output_type": "execute_result"
    }
   ],
   "source": [
    "exp_stages = np.repeat(stages, 64)\n",
    "exp_events = np.repeat(resp_events, 64)\n",
    "len(exp_stages), len(exp_events)"
   ]
  },
  {
   "cell_type": "code",
   "execution_count": 218,
   "metadata": {},
   "outputs": [],
   "source": [
    "sleep_stages = (stages != 0)"
   ]
  },
  {
   "cell_type": "code",
   "execution_count": 220,
   "metadata": {},
   "outputs": [
    {
     "data": {
      "text/plain": [
       "22740"
      ]
     },
     "execution_count": 220,
     "metadata": {},
     "output_type": "execute_result"
    }
   ],
   "source": [
    "np.sum(sleep_stages)"
   ]
  },
  {
   "cell_type": "code",
   "execution_count": null,
   "metadata": {},
   "outputs": [],
   "source": [
    "exp_stages"
   ]
  },
  {
   "cell_type": "code",
   "execution_count": 217,
   "metadata": {},
   "outputs": [
    {
     "data": {
      "text/plain": [
       "(2266816, 2266816)"
      ]
     },
     "execution_count": 217,
     "metadata": {},
     "output_type": "execute_result"
    }
   ],
   "source": [
    "len(abd), len(chest)"
   ]
  },
  {
   "cell_type": "code",
   "execution_count": null,
   "metadata": {},
   "outputs": [],
   "source": [
    "def filter_arrays(arrays_to_filter, filters):\n",
    "    \"\"\"\n",
    "    Filter a list of arrays by a list of filters.\n",
    "    \n",
    "    All arrays and filters should be the same length.\n",
    "    \n",
    "    This will apply each filter, in order, to each array\n",
    "    and to each later filter\n",
    "    \"\"\""
   ]
  },
  {
   "cell_type": "code",
   "execution_count": 165,
   "metadata": {},
   "outputs": [
    {
     "data": {
      "text/plain": [
       "array([27631,   643,  1051,   229,  8728,   340,    28])"
      ]
     },
     "execution_count": 165,
     "metadata": {},
     "output_type": "execute_result"
    }
   ],
   "source": [
    "np.bincount(resp_events)"
   ]
  },
  {
   "cell_type": "code",
   "execution_count": 166,
   "metadata": {},
   "outputs": [
    {
     "data": {
      "text/plain": [
       "(2, 7730000)"
      ]
     },
     "execution_count": 166,
     "metadata": {},
     "output_type": "execute_result"
    }
   ],
   "source": [
    "sigs.shape"
   ]
  },
  {
   "cell_type": "code",
   "execution_count": 25,
   "metadata": {},
   "outputs": [
    {
     "name": "stdout",
     "output_type": "stream",
     "text": [
      "\n",
      "x1 = sin( 0.1*arange(1024) )\n",
      "x2 = sin( 0.1*arange(1024) + 0.456)\n",
      "x1h = hilbert(x1)\n",
      "x2h = hilbert(x2)\n",
      "c = inner( x1h, conj(x2h) ) / sqrt( inner(x1h,conj(x1h)) * inner(x2h,conj(x2h)) )\n",
      "phase_diff = angle(c)\n",
      "\n"
     ]
    }
   ],
   "source": [
    "# https://stackoverflow.com/questions/27545171/identifying-phase-shift-between-signals\n",
    "print('''\n",
    "x1 = sin( 0.1*arange(1024) )\n",
    "x2 = sin( 0.1*arange(1024) + 0.456)\n",
    "x1h = hilbert(x1)\n",
    "x2h = hilbert(x2)\n",
    "c = inner( x1h, conj(x2h) ) / sqrt( inner(x1h,conj(x1h)) * inner(x2h,conj(x2h)) )\n",
    "phase_diff = angle(c)\n",
    "''')"
   ]
  },
  {
   "cell_type": "code",
   "execution_count": null,
   "metadata": {},
   "outputs": [],
   "source": []
  },
  {
   "cell_type": "markdown",
   "metadata": {},
   "source": [
    "### Phase angle: Method 1 - looks OK\n",
    "\n",
    "Issues:\n",
    "\n",
    "* Verify center-windowing\n",
    "* The TAA is calculated once for each window, we could also calculate for every second\n",
    "* Math from stack overflow - need to verify"
   ]
  },
  {
   "cell_type": "markdown",
   "metadata": {},
   "source": [
    "### Phase angle: Method 2 - not correct yet"
   ]
  },
  {
   "cell_type": "code",
   "execution_count": 136,
   "metadata": {},
   "outputs": [
    {
     "data": {
      "image/png": "[encoded data removed]",
      "text/plain": [
       "<Figure size 1152x1152 with 3 Axes>"
      ]
     },
     "metadata": {
      "needs_background": "light"
     },
     "output_type": "display_data"
    }
   ],
   "source": [
    "#chart_taa(start_time=11_530, window_len=60)\n",
    "# 13_560 looks weird. Jumps too high too early\n",
    "# 14_600 looks like TAA is ahead of the breathing problem\n",
    "# 14_900 looks TAA delayed again\n",
    "chart_taa(start_time=780, window_len=60,\n",
    "         abd=abd, chest=chest, taa=taa, taa_freq=taa_freq,\n",
    "         taa_valid=taa_valid, stages=stages, start_dt=start_dt)"
   ]
  },
  {
   "cell_type": "markdown",
   "metadata": {},
   "source": [
    "## TODO\n",
    "\n",
    "* Discard times when awake \n",
    "* Calculate % of time over 30% out of sync\n",
    "* Figure out the breathing rate\n",
    "* Discard breathing rate out of range"
   ]
  },
  {
   "cell_type": "code",
   "execution_count": 35,
   "metadata": {},
   "outputs": [
    {
     "data": {
      "text/plain": [
       "array([163.25,  75.5 , 140.  , 145.  ,   0.  , 102.  ])"
      ]
     },
     "execution_count": 35,
     "metadata": {},
     "output_type": "execute_result"
    }
   ],
   "source": [
    "# Minutes in each sleep stage\n",
    "np.bincount(stages)/60"
   ]
  },
  {
   "cell_type": "code",
   "execution_count": 36,
   "metadata": {},
   "outputs": [
    {
     "data": {
      "text/plain": [
       "10.429166666666667"
      ]
     },
     "execution_count": 36,
     "metadata": {},
     "output_type": "execute_result"
    }
   ],
   "source": [
    "# Study length in hours\n",
    "len(stages)/60/60"
   ]
  },
  {
   "cell_type": "code",
   "execution_count": 37,
   "metadata": {},
   "outputs": [
    {
     "data": {
      "text/plain": [
       "2.720833333333333"
      ]
     },
     "execution_count": 37,
     "metadata": {},
     "output_type": "execute_result"
    }
   ],
   "source": [
    "# hours awake\n",
    "sum(stages == 0)/60/60"
   ]
  },
  {
   "cell_type": "code",
   "execution_count": 38,
   "metadata": {},
   "outputs": [
    {
     "data": {
      "text/plain": [
       "462.5"
      ]
     },
     "execution_count": 38,
     "metadata": {},
     "output_type": "execute_result"
    }
   ],
   "source": [
    "sleep_minutes = sum(stages != 0)/60\n",
    "sleep_minutes"
   ]
  },
  {
   "cell_type": "code",
   "execution_count": 39,
   "metadata": {},
   "outputs": [
    {
     "data": {
      "text/plain": [
       "27750"
      ]
     },
     "execution_count": 39,
     "metadata": {},
     "output_type": "execute_result"
    }
   ],
   "source": [
    "# Filter taa by time asleep\n",
    "asleep_taa = taa[stages != 0]\n",
    "len(asleep_taa)"
   ]
  },
  {
   "cell_type": "code",
   "execution_count": 62,
   "metadata": {},
   "outputs": [
    {
     "data": {
      "text/plain": [
       "0.2570810810810811"
      ]
     },
     "execution_count": 62,
     "metadata": {},
     "output_type": "execute_result"
    }
   ],
   "source": [
    "# Percent of time sleeping with taa > 30%\n",
    "sum(asleep_taa > 0.3) / len(asleep_taa)"
   ]
  },
  {
   "cell_type": "code",
   "execution_count": 58,
   "metadata": {},
   "outputs": [
    {
     "data": {
      "text/plain": [
       "[(585.0, 'Normal'),\n",
       " (6.0, 'Hypopnea'),\n",
       " (2.0, 'Obstructive apnea'),\n",
       " (0.0, 'Central apnea'),\n",
       " (29.0, 'SpO2 desaturation'),\n",
       " (3.0, 'SpO2 artifact'),\n",
       " (0.0, 'Unsure')]"
      ]
     },
     "execution_count": 58,
     "metadata": {},
     "output_type": "execute_result"
    }
   ],
   "source": [
    "# Minutes in each respiratory event\n",
    "events = [\n",
    "    'Normal',\n",
    "    'Hypopnea',\n",
    "    'Obstructive apnea',\n",
    "    'Central apnea',\n",
    "    'SpO2 desaturation',\n",
    "    'SpO2 artifact',\n",
    "    'Unsure',\n",
    "    'Other',\n",
    "]\n",
    "list(zip(np.round(np.bincount(resp_events)/60,0), events))"
   ]
  },
  {
   "cell_type": "code",
   "execution_count": 60,
   "metadata": {},
   "outputs": [
    {
     "data": {
      "text/plain": [
       "27247"
      ]
     },
     "execution_count": 60,
     "metadata": {},
     "output_type": "execute_result"
    }
   ],
   "source": [
    "# Filter taa by time asleep\n",
    "asleep_taa = taa[stages != 0]\n",
    "asleep_events = resp_events[stages != 0]\n",
    "result = asleep_taa[(asleep_events != 1) & (asleep_events != 2) & (asleep_events != 3)]\n",
    "len(result)"
   ]
  },
  {
   "cell_type": "code",
   "execution_count": 63,
   "metadata": {},
   "outputs": [
    {
     "data": {
      "text/plain": [
       "0.25213785003853634"
      ]
     },
     "execution_count": 63,
     "metadata": {},
     "output_type": "execute_result"
    }
   ],
   "source": [
    "# Percent of time sleeping with taa > 30%\n",
    "sum(result > 0.3) / len(result)"
   ]
  },
  {
   "cell_type": "code",
   "execution_count": 266,
   "metadata": {},
   "outputs": [],
   "source": [
    "f._close()"
   ]
  },
  {
   "cell_type": "code",
   "execution_count": 275,
   "metadata": {},
   "outputs": [
    {
     "data": {
      "text/plain": [
       "200"
      ]
     },
     "execution_count": 275,
     "metadata": {},
     "output_type": "execute_result"
    }
   ],
   "source": []
  },
  {
   "cell_type": "code",
   "execution_count": 27,
   "metadata": {},
   "outputs": [],
   "source": [
    "f = pyedflib.EdfReader('./local-data/chat/polysomnography/edfs/baseline/chat-baseline-300013.edf')\n"
   ]
  },
  {
   "cell_type": "code",
   "execution_count": 28,
   "metadata": {},
   "outputs": [],
   "source": [
    "signal_labels = ['ABD','Chest']\n",
    "edf_indices = get_edf_signal_indices(f, signal_labels)\n",
    "orig_freq = int(f.samplefrequency(edf_indices[0]))\n"
   ]
  },
  {
   "cell_type": "code",
   "execution_count": 29,
   "metadata": {},
   "outputs": [
    {
     "data": {
      "text/plain": [
       "[34, 33]"
      ]
     },
     "execution_count": 29,
     "metadata": {},
     "output_type": "execute_result"
    }
   ],
   "source": [
    "edf_indices"
   ]
  },
  {
   "cell_type": "code",
   "execution_count": 30,
   "metadata": {},
   "outputs": [
    {
     "data": {
      "text/plain": [
       "200.00000000000003"
      ]
     },
     "execution_count": 30,
     "metadata": {},
     "output_type": "execute_result"
    }
   ],
   "source": [
    "f.samplefrequency(23)"
   ]
  },
  {
   "cell_type": "code",
   "execution_count": 31,
   "metadata": {},
   "outputs": [
    {
     "data": {
      "text/plain": [
       "200.00000000000003"
      ]
     },
     "execution_count": 31,
     "metadata": {},
     "output_type": "execute_result"
    }
   ],
   "source": [
    "f.samplefrequency(24)"
   ]
  },
  {
   "cell_type": "code",
   "execution_count": 32,
   "metadata": {},
   "outputs": [],
   "source": [
    "labels = f.getSignalLabels()"
   ]
  },
  {
   "cell_type": "code",
   "execution_count": 273,
   "metadata": {
    "collapsed": true,
    "jupyter": {
     "outputs_hidden": true
    }
   },
   "outputs": [
    {
     "data": {
      "text/plain": [
       "[('Event', 200.00000000000003),\n",
       " ('C3', 200.00000000000003),\n",
       " ('C4', 200.00000000000003),\n",
       " ('O1', 200.00000000000003),\n",
       " ('O2', 200.00000000000003),\n",
       " ('M1', 200.00000000000003),\n",
       " ('M2', 200.00000000000003),\n",
       " ('Cchin', 200.00000000000003),\n",
       " ('F3', 200.00000000000003),\n",
       " ('F4', 200.00000000000003),\n",
       " ('F7', 200.00000000000003),\n",
       " ('F8', 200.00000000000003),\n",
       " ('Fz', 200.00000000000003),\n",
       " ('Fp1', 200.00000000000003),\n",
       " ('Fp2', 200.00000000000003),\n",
       " ('Fpz', 200.00000000000003),\n",
       " ('P3', 200.00000000000003),\n",
       " ('P4', 200.00000000000003),\n",
       " ('ECG3', 200.00000000000003),\n",
       " ('T3', 200.00000000000003),\n",
       " ('T4', 200.00000000000003),\n",
       " ('T5', 200.00000000000003),\n",
       " ('T6', 200.00000000000003),\n",
       " ('E1', 200.00000000000003),\n",
       " ('E2', 200.00000000000003),\n",
       " ('Lchin', 200.00000000000003),\n",
       " ('Rchin', 200.00000000000003),\n",
       " ('ECG1', 200.00000000000003),\n",
       " ('ECG2', 200.00000000000003),\n",
       " ('Lleg1', 200.00000000000003),\n",
       " ('Lleg2', 200.00000000000003),\n",
       " ('Rleg1', 200.00000000000003),\n",
       " ('Rleg2', 200.00000000000003),\n",
       " ('Chest', 200.00000000000003),\n",
       " ('ABD', 200.00000000000003),\n",
       " ('Airflow', 200.00000000000003),\n",
       " ('Snore', 200.00000000000003),\n",
       " ('SUM', 200.00000000000003),\n",
       " ('CannulaFlow', 200.00000000000003),\n",
       " ('POSdc1', 200.00000000000003),\n",
       " ('BPOSdc2', 200.00000000000003),\n",
       " ('ORAL', 200.00000000000003),\n",
       " ('DC4', 200.00000000000003),\n",
       " ('ETCO2', 200.00000000000003),\n",
       " ('Cap', 200.00000000000003),\n",
       " ('CFLOW', 200.00000000000003),\n",
       " ('LEAK', 200.00000000000003),\n",
       " ('PAP', 200.00000000000003),\n",
       " ('SAO2nonin', 200.00000000000003),\n",
       " ('SAO2masimo', 200.00000000000003),\n",
       " ('Pulsemasimo', 200.00000000000003),\n",
       " ('DHR', 200.00000000000003)]"
      ]
     },
     "execution_count": 273,
     "metadata": {},
     "output_type": "execute_result"
    }
   ],
   "source": [
    "list(zip(labels, [f.samplefrequency(i) for i in range(len(labels))]))"
   ]
  },
  {
   "cell_type": "code",
   "execution_count": 226,
   "metadata": {},
   "outputs": [
    {
     "name": "stdout",
     "output_type": "stream",
     "text": [
      "baseline/chat-baseline-300004 sample frequency is 200.\n"
     ]
    },
    {
     "ename": "NameError",
     "evalue": "name 'nonevent_sleep' is not defined",
     "output_type": "error",
     "traceback": [
      "\u001b[0;31m---------------------------------------------------------------------------\u001b[0m",
      "\u001b[0;31mNameError\u001b[0m                                 Traceback (most recent call last)",
      "\u001b[0;32m<timed exec>\u001b[0m in \u001b[0;36m<module>\u001b[0;34m\u001b[0m\n",
      "\u001b[0;32m<ipython-input-225-6058f8038350>\u001b[0m in \u001b[0;36mcompute_perc_taa\u001b[0;34m(filename, taa_cutoff, fileroot)\u001b[0m\n\u001b[1;32m     74\u001b[0m \u001b[0;34m\u001b[0m\u001b[0m\n\u001b[1;32m     75\u001b[0m     \u001b[0;31m# Percent of time sleeping with taa over the cutoff\u001b[0m\u001b[0;34m\u001b[0m\u001b[0;34m\u001b[0m\u001b[0;34m\u001b[0m\u001b[0m\n\u001b[0;32m---> 76\u001b[0;31m     \u001b[0mtime_in_async\u001b[0m \u001b[0;34m=\u001b[0m \u001b[0mnp\u001b[0m\u001b[0;34m.\u001b[0m\u001b[0msum\u001b[0m\u001b[0;34m(\u001b[0m\u001b[0mnonevent_sleep\u001b[0m \u001b[0;34m>\u001b[0m \u001b[0mtaa_cutoff\u001b[0m\u001b[0;34m)\u001b[0m \u001b[0;34m/\u001b[0m \u001b[0masleep_non_event\u001b[0m\u001b[0;34m\u001b[0m\u001b[0;34m\u001b[0m\u001b[0m\n\u001b[0m\u001b[1;32m     77\u001b[0m \u001b[0;34m\u001b[0m\u001b[0m\n\u001b[1;32m     78\u001b[0m     \u001b[0mresult\u001b[0m \u001b[0;34m=\u001b[0m \u001b[0;34m'success'\u001b[0m\u001b[0;34m\u001b[0m\u001b[0;34m\u001b[0m\u001b[0m\n",
      "\u001b[0;31mNameError\u001b[0m: name 'nonevent_sleep' is not defined"
     ]
    }
   ],
   "source": [
    "%%time\n",
    "results = compute_perc_taa()\n",
    "results"
   ]
  },
  {
   "cell_type": "code",
   "execution_count": 232,
   "metadata": {},
   "outputs": [
    {
     "name": "stdout",
     "output_type": "stream",
     "text": [
      "baseline/chat-baseline-300001 sample frequency is 128.\n"
     ]
    },
    {
     "data": {
      "text/plain": [
       "('baseline/chat-baseline-300001',\n",
       " 'success',\n",
       " 32258,\n",
       " 3608,\n",
       " 28650,\n",
       " 930,\n",
       " 13020,\n",
       " 8610,\n",
       " 6090,\n",
       " 28411,\n",
       " 28411,\n",
       " 0.01323431065432403,\n",
       " 0.042905916722396256,\n",
       " 0.02228010277709338,\n",
       " 0.01323431065432403,\n",
       " 0.009010594488050402,\n",
       " 0.006687550596599909,\n",
       " 0.006159586075815705)"
      ]
     },
     "execution_count": 232,
     "metadata": {},
     "output_type": "execute_result"
    }
   ],
   "source": [
    "compute_perc_taa('baseline/chat-baseline-300001')"
   ]
  },
  {
   "cell_type": "code",
   "execution_count": 80,
   "metadata": {},
   "outputs": [],
   "source": [
    "def read_files(files):\n",
    "    dtypes = np.dtype([\n",
    "        ('filename', np.object),\n",
    "        ('comment', np.object),\n",
    "        ('orig_freq', np.int64),\n",
    "        ('duration_sec', np.int64),\n",
    "        ('awake_seconds', np.int64),\n",
    "        ('sleep_seconds', np.int64),\n",
    "        ('stage_1_seconds', np.int64),\n",
    "        ('stage_2_seconds', np.int64),\n",
    "        ('stage_3_seconds', np.int64),\n",
    "        ('stage_5_seconds', np.int64),\n",
    "        ('hyp_apnea_seconds', np.int64),\n",
    "        ('asleep_non_event_seconds', np.int64),\n",
    "        ('time_in_async_30p', np.float64),\n",
    "        ('time_in_async_25p', np.float64),\n",
    "        ('time_in_async_50p', np.float64),\n",
    "        ('time_in_async_75p', np.float64),\n",
    "    ])\n",
    "    df = np.empty(len(files), dtypes)\n",
    "    for i, filename in enumerate(files):\n",
    "        print(f\"{i:3} processing {filename}\")\n",
    "        df[i] = compute_perc_taa(filename)\n",
    "    results_df = pd.DataFrame(df, index=files)\n",
    "    results_df = results_df.drop(columns='filename')\n",
    "    results_df.index.name = 'filename'\n",
    "    return results_df"
   ]
  },
  {
   "cell_type": "code",
   "execution_count": 47,
   "metadata": {},
   "outputs": [],
   "source": [
    "_ = '''\n",
    "'''\n",
    "baseline_files = '''\n",
    "chat-baseline-300001.edf\n",
    "chat-baseline-300002.edf\n",
    "chat-baseline-300004.edf\n",
    "chat-baseline-300007.edf\n",
    "chat-baseline-300008.edf\n",
    "chat-baseline-300013.edf\n",
    "chat-baseline-300014.edf\n",
    "chat-baseline-300015.edf\n",
    "chat-baseline-300019.edf\n",
    "chat-baseline-300021.edf\n",
    "chat-baseline-300024.edf\n",
    "chat-baseline-300025.edf\n",
    "chat-baseline-300026.edf\n",
    "chat-baseline-300031.edf\n",
    "chat-baseline-300033.edf\n",
    "chat-baseline-300036.edf\n",
    "chat-baseline-300037.edf\n",
    "chat-baseline-300038.edf\n",
    "chat-baseline-300039.edf\n",
    "chat-baseline-300041.edf\n",
    "chat-baseline-300042.edf\n",
    "chat-baseline-300043.edf\n",
    "chat-baseline-300051.edf\n",
    "chat-baseline-300052.edf\n",
    "chat-baseline-300055.edf\n",
    "chat-baseline-300058.edf\n",
    "chat-baseline-300062.edf\n",
    "chat-baseline-300063.edf\n",
    "chat-baseline-300066.edf\n",
    "chat-baseline-300069.edf\n",
    "chat-baseline-300071.edf\n",
    "chat-baseline-300072.edf\n",
    "chat-baseline-300073.edf\n",
    "chat-baseline-300077.edf\n",
    "chat-baseline-300078.edf\n",
    "chat-baseline-300081.edf\n",
    "chat-baseline-300098.edf\n",
    "chat-baseline-300102.edf\n",
    "chat-baseline-300108.edf\n",
    "chat-baseline-300111.edf\n",
    "chat-baseline-300117.edf\n",
    "chat-baseline-300122.edf\n",
    "chat-baseline-300129.edf\n",
    "chat-baseline-300130.edf\n",
    "chat-baseline-300132.edf\n",
    "chat-baseline-300133.edf\n",
    "chat-baseline-300134.edf\n",
    "chat-baseline-300139.edf\n",
    "chat-baseline-300141.edf\n",
    "chat-baseline-300144.edf\n",
    "chat-baseline-300150.edf\n",
    "chat-baseline-300153.edf\n",
    "chat-baseline-300157.edf\n",
    "chat-baseline-300158.edf\n",
    "chat-baseline-300160.edf\n",
    "chat-baseline-300166.edf\n",
    "chat-baseline-300167.edf\n",
    "'''"
   ]
  },
  {
   "cell_type": "code",
   "execution_count": 45,
   "metadata": {},
   "outputs": [],
   "source": [
    "import taa_calc\n",
    "importlib.reload(taa_calc)\n",
    "from taa_calc import (\n",
    "    get_edf_signal_indices,\n",
    "    read_edf_signals,\n",
    "    read_edf_signals_file,\n",
    "    resample_signals,\n",
    "    preprocess,\n",
    "    fund_freq,\n",
    "    avg_resp_period,\n",
    "    calc_windows,\n",
    "    calc_taa,\n",
    "    read_sleep_stages,\n",
    "    read_resp_events,\n",
    "    chart_taa,\n",
    "    compute_perc_taa,\n",
    "    read_files,\n",
    ")"
   ]
  },
  {
   "cell_type": "code",
   "execution_count": 49,
   "metadata": {},
   "outputs": [],
   "source": [
    "from itertools import islice"
   ]
  },
  {
   "cell_type": "code",
   "execution_count": 43,
   "metadata": {},
   "outputs": [],
   "source": [
    "def get_freq(filename='baseline/chat-baseline-300004', taa_cutoff=0.3,\n",
    "                    fileroot='local-data/chat/polysomnography',):\n",
    "    EDF_DIR = 'edfs'\n",
    "    \n",
    "    edf_file = f'{fileroot}/{EDF_DIR}/{filename}.edf'\n",
    "    print(f\"Opening {edf_file}\")\n",
    "    \n",
    "    f = pyedflib.EdfReader(edf_file)\n",
    "    signal_labels = ['ABD','Chest']\n",
    "    edf_indices = get_edf_signal_indices(f, signal_labels)\n",
    "    orig_freq = int(f.samplefrequency(edf_indices[0]))\n",
    "    f._close()\n",
    "    return orig_freq\n"
   ]
  },
  {
   "cell_type": "code",
   "execution_count": 44,
   "metadata": {
    "collapsed": true,
    "jupyter": {
     "outputs_hidden": true
    }
   },
   "outputs": [
    {
     "name": "stdout",
     "output_type": "stream",
     "text": [
      "Opening local-data/chat/polysomnography/edfs/baseline/chat-baseline-300001.edf\n",
      "128\n",
      "Opening local-data/chat/polysomnography/edfs/baseline/chat-baseline-300002.edf\n",
      "200\n",
      "Opening local-data/chat/polysomnography/edfs/baseline/chat-baseline-300004.edf\n",
      "200\n",
      "Opening local-data/chat/polysomnography/edfs/baseline/chat-baseline-300007.edf\n",
      "32\n",
      "Opening local-data/chat/polysomnography/edfs/baseline/chat-baseline-300008.edf\n",
      "32\n",
      "Opening local-data/chat/polysomnography/edfs/baseline/chat-baseline-300013.edf\n",
      "200\n",
      "Opening local-data/chat/polysomnography/edfs/baseline/chat-baseline-300014.edf\n",
      "200\n",
      "Opening local-data/chat/polysomnography/edfs/baseline/chat-baseline-300015.edf\n",
      "32\n",
      "Opening local-data/chat/polysomnography/edfs/baseline/chat-baseline-300019.edf\n",
      "200\n",
      "Opening local-data/chat/polysomnography/edfs/baseline/chat-baseline-300021.edf\n",
      "512\n",
      "Opening local-data/chat/polysomnography/edfs/baseline/chat-baseline-300024.edf\n",
      "256\n",
      "Opening local-data/chat/polysomnography/edfs/baseline/chat-baseline-300025.edf\n",
      "32\n",
      "Opening local-data/chat/polysomnography/edfs/baseline/chat-baseline-300026.edf\n",
      "200\n",
      "Opening local-data/chat/polysomnography/edfs/baseline/chat-baseline-300031.edf\n",
      "200\n",
      "Opening local-data/chat/polysomnography/edfs/baseline/chat-baseline-300033.edf\n",
      "32\n",
      "Opening local-data/chat/polysomnography/edfs/baseline/chat-baseline-300036.edf\n",
      "200\n",
      "Opening local-data/chat/polysomnography/edfs/baseline/chat-baseline-300037.edf\n",
      "200\n",
      "Opening local-data/chat/polysomnography/edfs/baseline/chat-baseline-300038.edf\n",
      "128\n",
      "Opening local-data/chat/polysomnography/edfs/baseline/chat-baseline-300039.edf\n",
      "200\n",
      "Opening local-data/chat/polysomnography/edfs/baseline/chat-baseline-300041.edf\n",
      "200\n",
      "Opening local-data/chat/polysomnography/edfs/baseline/chat-baseline-300042.edf\n",
      "200\n",
      "Opening local-data/chat/polysomnography/edfs/baseline/chat-baseline-300043.edf\n",
      "200\n",
      "Opening local-data/chat/polysomnography/edfs/baseline/chat-baseline-300051.edf\n",
      "25\n",
      "Opening local-data/chat/polysomnography/edfs/baseline/chat-baseline-300052.edf\n",
      "200\n",
      "Opening local-data/chat/polysomnography/edfs/baseline/chat-baseline-300055.edf\n",
      "200\n",
      "Opening local-data/chat/polysomnography/edfs/baseline/chat-baseline-300058.edf\n",
      "200\n",
      "Opening local-data/chat/polysomnography/edfs/baseline/chat-baseline-300062.edf\n",
      "200\n",
      "Opening local-data/chat/polysomnography/edfs/baseline/chat-baseline-300063.edf\n",
      "32\n",
      "Opening local-data/chat/polysomnography/edfs/baseline/chat-baseline-300066.edf\n",
      "32\n",
      "Opening local-data/chat/polysomnography/edfs/baseline/chat-baseline-300069.edf\n",
      "200\n",
      "Opening local-data/chat/polysomnography/edfs/baseline/chat-baseline-300071.edf\n",
      "200\n",
      "Opening local-data/chat/polysomnography/edfs/baseline/chat-baseline-300072.edf\n",
      "200\n",
      "Opening local-data/chat/polysomnography/edfs/baseline/chat-baseline-300073.edf\n",
      "200\n",
      "Opening local-data/chat/polysomnography/edfs/baseline/chat-baseline-300077.edf\n",
      "32\n",
      "Opening local-data/chat/polysomnography/edfs/baseline/chat-baseline-300078.edf\n",
      "200\n",
      "Opening local-data/chat/polysomnography/edfs/baseline/chat-baseline-300081.edf\n",
      "200\n",
      "Opening local-data/chat/polysomnography/edfs/baseline/chat-baseline-300098.edf\n",
      "200\n",
      "Opening local-data/chat/polysomnography/edfs/baseline/chat-baseline-300102.edf\n",
      "200\n",
      "Opening local-data/chat/polysomnography/edfs/baseline/chat-baseline-300108.edf\n",
      "200\n",
      "Opening local-data/chat/polysomnography/edfs/baseline/chat-baseline-300111.edf\n",
      "200\n",
      "Opening local-data/chat/polysomnography/edfs/baseline/chat-baseline-300117.edf\n",
      "128\n",
      "Opening local-data/chat/polysomnography/edfs/baseline/chat-baseline-300122.edf\n",
      "50\n",
      "Opening local-data/chat/polysomnography/edfs/baseline/chat-baseline-300129.edf\n",
      "200\n",
      "Opening local-data/chat/polysomnography/edfs/baseline/chat-baseline-300130.edf\n",
      "200\n",
      "Opening local-data/chat/polysomnography/edfs/baseline/chat-baseline-300132.edf\n",
      "200\n",
      "Opening local-data/chat/polysomnography/edfs/baseline/chat-baseline-300133.edf\n",
      "200\n",
      "Opening local-data/chat/polysomnography/edfs/baseline/chat-baseline-300134.edf\n",
      "200\n",
      "Opening local-data/chat/polysomnography/edfs/baseline/chat-baseline-300139.edf\n",
      "512\n",
      "Opening local-data/chat/polysomnography/edfs/baseline/chat-baseline-300141.edf\n",
      "128\n",
      "Opening local-data/chat/polysomnography/edfs/baseline/chat-baseline-300144.edf\n",
      "200\n",
      "Opening local-data/chat/polysomnography/edfs/baseline/chat-baseline-300150.edf\n",
      "200\n",
      "Opening local-data/chat/polysomnography/edfs/baseline/chat-baseline-300153.edf\n",
      "200\n",
      "Opening local-data/chat/polysomnography/edfs/baseline/chat-baseline-300157.edf\n",
      "200\n",
      "Opening local-data/chat/polysomnography/edfs/baseline/chat-baseline-300158.edf\n",
      "32\n",
      "Opening local-data/chat/polysomnography/edfs/baseline/chat-baseline-300160.edf\n",
      "32\n",
      "Opening local-data/chat/polysomnography/edfs/baseline/chat-baseline-300166.edf\n",
      "32\n",
      "Opening local-data/chat/polysomnography/edfs/baseline/chat-baseline-300167.edf\n",
      "200\n"
     ]
    }
   ],
   "source": [
    "files = [f'baseline/{fn.split(\".edf\")[0]}' for fn in baseline_files.strip().split('\\n')]\n",
    "for file in files:\n",
    "    print(get_freq(file))"
   ]
  },
  {
   "cell_type": "code",
   "execution_count": 50,
   "metadata": {},
   "outputs": [
    {
     "name": "stdout",
     "output_type": "stream",
     "text": [
      "  0 processing baseline/chat-baseline-300001\n",
      "baseline/chat-baseline-300001 sample frequency is 128.\n"
     ]
    },
    {
     "name": "stderr",
     "output_type": "stream",
     "text": [
      "/Users/jbranam/files/study/iums/d590_dsip/aisdb/aisdb/taa_calc.py:361: UserWarning: No parser was explicitly specified, so I'm using the best available HTML parser for this system (\"html.parser\"). This usually isn't a problem, but if you run this code on another system, or in a different virtual environment, it may use a different parser and behave differently.\n",
      "\n",
      "The code that caused this warning is on line 361 of the file /Users/jbranam/files/study/iums/d590_dsip/aisdb/aisdb/taa_calc.py. To get rid of this warning, pass the additional argument 'features=\"html.parser\"' to the BeautifulSoup constructor.\n",
      "\n"
     ]
    },
    {
     "name": "stdout",
     "output_type": "stream",
     "text": [
      "avg resp period 4.0 win 12.0 step size 1.0\n"
     ]
    },
    {
     "ename": "AssertionError",
     "evalue": "",
     "output_type": "error",
     "traceback": [
      "\u001b[0;31m---------------------------------------------------------------------------\u001b[0m",
      "\u001b[0;31mAssertionError\u001b[0m                            Traceback (most recent call last)",
      "\u001b[0;32m<ipython-input-50-6bc69c3238ba>\u001b[0m in \u001b[0;36m<module>\u001b[0;34m\u001b[0m\n\u001b[1;32m      1\u001b[0m \u001b[0mfiles\u001b[0m \u001b[0;34m=\u001b[0m \u001b[0;34m[\u001b[0m\u001b[0;34mf'baseline/{fn.split(\".edf\")[0]}'\u001b[0m \u001b[0;32mfor\u001b[0m \u001b[0mfn\u001b[0m \u001b[0;32min\u001b[0m \u001b[0mbaseline_files\u001b[0m\u001b[0;34m.\u001b[0m\u001b[0mstrip\u001b[0m\u001b[0;34m(\u001b[0m\u001b[0;34m)\u001b[0m\u001b[0;34m.\u001b[0m\u001b[0msplit\u001b[0m\u001b[0;34m(\u001b[0m\u001b[0;34m'\\n'\u001b[0m\u001b[0;34m)\u001b[0m\u001b[0;34m]\u001b[0m\u001b[0;34m\u001b[0m\u001b[0;34m\u001b[0m\u001b[0m\n\u001b[0;32m----> 2\u001b[0;31m \u001b[0mtest_df\u001b[0m \u001b[0;34m=\u001b[0m \u001b[0mread_files\u001b[0m\u001b[0;34m(\u001b[0m\u001b[0mlist\u001b[0m\u001b[0;34m(\u001b[0m\u001b[0mislice\u001b[0m\u001b[0;34m(\u001b[0m\u001b[0mfiles\u001b[0m\u001b[0;34m,\u001b[0m \u001b[0;36m2\u001b[0m\u001b[0;34m)\u001b[0m\u001b[0;34m)\u001b[0m\u001b[0;34m)\u001b[0m\u001b[0;34m\u001b[0m\u001b[0;34m\u001b[0m\u001b[0m\n\u001b[0m\u001b[1;32m      3\u001b[0m \u001b[0mtest_df\u001b[0m\u001b[0;34m\u001b[0m\u001b[0;34m\u001b[0m\u001b[0m\n",
      "\u001b[0;32m~/files/study/iums/d590_dsip/aisdb/aisdb/taa_calc.py\u001b[0m in \u001b[0;36mread_files\u001b[0;34m(files)\u001b[0m\n\u001b[1;32m    480\u001b[0m     \u001b[0;32mfor\u001b[0m \u001b[0mi\u001b[0m\u001b[0;34m,\u001b[0m \u001b[0mfilename\u001b[0m \u001b[0;32min\u001b[0m \u001b[0menumerate\u001b[0m\u001b[0;34m(\u001b[0m\u001b[0mfiles\u001b[0m\u001b[0;34m)\u001b[0m\u001b[0;34m:\u001b[0m\u001b[0;34m\u001b[0m\u001b[0;34m\u001b[0m\u001b[0m\n\u001b[1;32m    481\u001b[0m         \u001b[0mprint\u001b[0m\u001b[0;34m(\u001b[0m\u001b[0;34mf\"{i:3} processing {filename}\"\u001b[0m\u001b[0;34m)\u001b[0m\u001b[0;34m\u001b[0m\u001b[0;34m\u001b[0m\u001b[0m\n\u001b[0;32m--> 482\u001b[0;31m         \u001b[0mdf\u001b[0m\u001b[0;34m[\u001b[0m\u001b[0mi\u001b[0m\u001b[0;34m]\u001b[0m \u001b[0;34m=\u001b[0m \u001b[0mcompute_perc_taa\u001b[0m\u001b[0;34m(\u001b[0m\u001b[0mfilename\u001b[0m\u001b[0;34m)\u001b[0m\u001b[0;34m\u001b[0m\u001b[0;34m\u001b[0m\u001b[0m\n\u001b[0m\u001b[1;32m    483\u001b[0m     \u001b[0mresults_df\u001b[0m \u001b[0;34m=\u001b[0m \u001b[0mpd\u001b[0m\u001b[0;34m.\u001b[0m\u001b[0mDataFrame\u001b[0m\u001b[0;34m(\u001b[0m\u001b[0mdf\u001b[0m\u001b[0;34m,\u001b[0m \u001b[0mindex\u001b[0m\u001b[0;34m=\u001b[0m\u001b[0mfiles\u001b[0m\u001b[0;34m)\u001b[0m\u001b[0;34m\u001b[0m\u001b[0;34m\u001b[0m\u001b[0m\n\u001b[1;32m    484\u001b[0m     \u001b[0mresults_df\u001b[0m \u001b[0;34m=\u001b[0m \u001b[0mresults_df\u001b[0m\u001b[0;34m.\u001b[0m\u001b[0mdrop\u001b[0m\u001b[0;34m(\u001b[0m\u001b[0mcolumns\u001b[0m\u001b[0;34m=\u001b[0m\u001b[0;34m'filename'\u001b[0m\u001b[0;34m)\u001b[0m\u001b[0;34m\u001b[0m\u001b[0;34m\u001b[0m\u001b[0m\n",
      "\u001b[0;32m~/files/study/iums/d590_dsip/aisdb/aisdb/taa_calc.py\u001b[0m in \u001b[0;36mcompute_perc_taa\u001b[0;34m(filename, taa_cutoff, fileroot)\u001b[0m\n\u001b[1;32m    389\u001b[0m \u001b[0;34m\u001b[0m\u001b[0m\n\u001b[1;32m    390\u001b[0m     \u001b[0;31m# Sanity check the parsing\u001b[0m\u001b[0;34m\u001b[0m\u001b[0;34m\u001b[0m\u001b[0;34m\u001b[0m\u001b[0m\n\u001b[0;32m--> 391\u001b[0;31m     \u001b[0;32massert\u001b[0m \u001b[0mduration_sec\u001b[0m \u001b[0;34m==\u001b[0m \u001b[0mlen\u001b[0m\u001b[0;34m(\u001b[0m\u001b[0mtaa\u001b[0m\u001b[0;34m)\u001b[0m\u001b[0;34m\u001b[0m\u001b[0;34m\u001b[0m\u001b[0m\n\u001b[0m\u001b[1;32m    392\u001b[0m     \u001b[0;32massert\u001b[0m \u001b[0mduration_sec\u001b[0m \u001b[0;34m==\u001b[0m \u001b[0mlen\u001b[0m\u001b[0;34m(\u001b[0m\u001b[0mstages\u001b[0m\u001b[0;34m)\u001b[0m\u001b[0;34m\u001b[0m\u001b[0;34m\u001b[0m\u001b[0m\n\u001b[1;32m    393\u001b[0m     \u001b[0;32massert\u001b[0m \u001b[0mduration_sec\u001b[0m \u001b[0;34m==\u001b[0m \u001b[0mlen\u001b[0m\u001b[0;34m(\u001b[0m\u001b[0mresp_events\u001b[0m\u001b[0;34m)\u001b[0m\u001b[0;34m\u001b[0m\u001b[0;34m\u001b[0m\u001b[0m\n",
      "\u001b[0;31mAssertionError\u001b[0m: "
     ]
    }
   ],
   "source": [
    "files = [f'baseline/{fn.split(\".edf\")[0]}' for fn in baseline_files.strip().split('\\n')]\n",
    "test_df = read_files(list(islice(files, 2)))\n",
    "test_df"
   ]
  },
  {
   "cell_type": "code",
   "execution_count": null,
   "metadata": {},
   "outputs": [],
   "source": [
    "results_df.head(4)"
   ]
  },
  {
   "cell_type": "code",
   "execution_count": 46,
   "metadata": {},
   "outputs": [
    {
     "name": "stdout",
     "output_type": "stream",
     "text": [
      "  0 processing baseline/chat-baseline-300001\n",
      "baseline/chat-baseline-300001 sample frequency is 128.\n",
      "  1 processing baseline/chat-baseline-300002\n",
      "baseline/chat-baseline-300002 sample frequency is 200.\n",
      "  2 processing baseline/chat-baseline-300004\n",
      "baseline/chat-baseline-300004 sample frequency is 200.\n",
      "  3 processing baseline/chat-baseline-300007\n",
      "baseline/chat-baseline-300007 sample frequency is 32.\n",
      "  4 processing baseline/chat-baseline-300008\n",
      "baseline/chat-baseline-300008 sample frequency is 32.\n",
      "  5 processing baseline/chat-baseline-300013\n",
      "baseline/chat-baseline-300013 sample frequency is 200.\n",
      "  6 processing baseline/chat-baseline-300014\n",
      "baseline/chat-baseline-300014 sample frequency is 200.\n",
      "  7 processing baseline/chat-baseline-300015\n",
      "baseline/chat-baseline-300015 sample frequency is 32.\n",
      "  8 processing baseline/chat-baseline-300019\n",
      "baseline/chat-baseline-300019 sample frequency is 200.\n",
      "  9 processing baseline/chat-baseline-300021\n",
      "baseline/chat-baseline-300021 sample frequency is 512.\n",
      " 10 processing baseline/chat-baseline-300024\n",
      "baseline/chat-baseline-300024 sample frequency is 256.\n",
      " 11 processing baseline/chat-baseline-300025\n",
      "baseline/chat-baseline-300025 sample frequency is 32.\n",
      " 12 processing baseline/chat-baseline-300026\n",
      "baseline/chat-baseline-300026 sample frequency is 200.\n",
      "Event type['Periodic breathing', 'Periodic Breathing']\n",
      "Event type['Periodic breathing', 'Periodic Breathing']\n",
      "Event type['Periodic breathing', 'Periodic Breathing']\n",
      "Event type['Periodic breathing', 'Periodic Breathing']\n",
      " 13 processing baseline/chat-baseline-300031\n",
      "baseline/chat-baseline-300031 sample frequency is 200.\n",
      " 14 processing baseline/chat-baseline-300033\n",
      "baseline/chat-baseline-300033 sample frequency is 32.\n",
      " 15 processing baseline/chat-baseline-300036\n",
      "baseline/chat-baseline-300036 sample frequency is 200.\n",
      " 16 processing baseline/chat-baseline-300037\n",
      "baseline/chat-baseline-300037 sample frequency is 200.\n",
      " 17 processing baseline/chat-baseline-300038\n",
      "baseline/chat-baseline-300038 sample frequency is 128.\n",
      " 18 processing baseline/chat-baseline-300039\n",
      "baseline/chat-baseline-300039 sample frequency is 200.\n",
      " 19 processing baseline/chat-baseline-300041\n",
      "baseline/chat-baseline-300041 sample frequency is 200.\n",
      " 20 processing baseline/chat-baseline-300042\n",
      "baseline/chat-baseline-300042 sample frequency is 200.\n",
      " 21 processing baseline/chat-baseline-300043\n",
      "baseline/chat-baseline-300043 sample frequency is 200.\n",
      " 22 processing baseline/chat-baseline-300051\n",
      "baseline/chat-baseline-300051 sample frequency is 25.\n",
      " 23 processing baseline/chat-baseline-300052\n",
      "baseline/chat-baseline-300052 sample frequency is 200.\n",
      " 24 processing baseline/chat-baseline-300055\n",
      "baseline/chat-baseline-300055 sample frequency is 200.\n",
      " 25 processing baseline/chat-baseline-300058\n",
      "baseline/chat-baseline-300058 sample frequency is 200.\n",
      " 26 processing baseline/chat-baseline-300062\n",
      "baseline/chat-baseline-300062 sample frequency is 200.\n",
      " 27 processing baseline/chat-baseline-300063\n",
      "baseline/chat-baseline-300063 sample frequency is 32.\n",
      " 28 processing baseline/chat-baseline-300066\n",
      "baseline/chat-baseline-300066 sample frequency is 32.\n",
      " 29 processing baseline/chat-baseline-300069\n",
      "baseline/chat-baseline-300069 sample frequency is 200.\n",
      " 30 processing baseline/chat-baseline-300071\n",
      "baseline/chat-baseline-300071 sample frequency is 200.\n",
      " 31 processing baseline/chat-baseline-300072\n",
      "baseline/chat-baseline-300072 sample frequency is 200.\n",
      " 32 processing baseline/chat-baseline-300073\n",
      "baseline/chat-baseline-300073 sample frequency is 200.\n",
      " 33 processing baseline/chat-baseline-300077\n",
      "baseline/chat-baseline-300077 sample frequency is 32.\n",
      " 34 processing baseline/chat-baseline-300078\n",
      "baseline/chat-baseline-300078 sample frequency is 200.\n",
      " 35 processing baseline/chat-baseline-300081\n",
      "baseline/chat-baseline-300081 sample frequency is 200.\n",
      " 36 processing baseline/chat-baseline-300098\n",
      "baseline/chat-baseline-300098 sample frequency is 200.\n",
      " 37 processing baseline/chat-baseline-300102\n",
      "baseline/chat-baseline-300102 sample frequency is 200.\n",
      " 38 processing baseline/chat-baseline-300108\n",
      "baseline/chat-baseline-300108 sample frequency is 200.\n",
      " 39 processing baseline/chat-baseline-300111\n",
      "baseline/chat-baseline-300111 sample frequency is 200.\n",
      " 40 processing baseline/chat-baseline-300117\n",
      "baseline/chat-baseline-300117 sample frequency is 128.\n",
      " 41 processing baseline/chat-baseline-300122\n",
      "baseline/chat-baseline-300122 sample frequency is 50.\n",
      " 42 processing baseline/chat-baseline-300129\n",
      "baseline/chat-baseline-300129 sample frequency is 200.\n",
      " 43 processing baseline/chat-baseline-300130\n",
      "baseline/chat-baseline-300130 sample frequency is 200.\n",
      " 44 processing baseline/chat-baseline-300132\n",
      "baseline/chat-baseline-300132 sample frequency is 200.\n",
      " 45 processing baseline/chat-baseline-300133\n",
      "baseline/chat-baseline-300133 sample frequency is 200.\n",
      " 46 processing baseline/chat-baseline-300134\n",
      "baseline/chat-baseline-300134 sample frequency is 200.\n",
      " 47 processing baseline/chat-baseline-300139\n",
      "baseline/chat-baseline-300139 sample frequency is 512.\n",
      " 48 processing baseline/chat-baseline-300141\n",
      "baseline/chat-baseline-300141 sample frequency is 128.\n",
      " 49 processing baseline/chat-baseline-300144\n",
      "baseline/chat-baseline-300144 sample frequency is 200.\n",
      " 50 processing baseline/chat-baseline-300150\n",
      "baseline/chat-baseline-300150 sample frequency is 200.\n",
      " 51 processing baseline/chat-baseline-300153\n",
      "baseline/chat-baseline-300153 sample frequency is 200.\n",
      " 52 processing baseline/chat-baseline-300157\n",
      "baseline/chat-baseline-300157 sample frequency is 200.\n",
      " 53 processing baseline/chat-baseline-300158\n",
      "baseline/chat-baseline-300158 sample frequency is 32.\n",
      " 54 processing baseline/chat-baseline-300160\n",
      "baseline/chat-baseline-300160 sample frequency is 32.\n",
      " 55 processing baseline/chat-baseline-300166\n",
      "baseline/chat-baseline-300166 sample frequency is 32.\n",
      " 56 processing baseline/chat-baseline-300167\n",
      "baseline/chat-baseline-300167 sample frequency is 200.\n"
     ]
    }
   ],
   "source": [
    "files = [f'baseline/{fn.split(\".edf\")[0]}' for fn in baseline_files.strip().split('\\n')]\n",
    "#results_df = read_files(list(islice(files,10)))\n",
    "results_df = read_files(files)"
   ]
  },
  {
   "cell_type": "code",
   "execution_count": 50,
   "metadata": {},
   "outputs": [],
   "source": [
    "# results_df = results_df.rename(columns={'time_in_async':'time_in_async_30p'})"
   ]
  },
  {
   "cell_type": "code",
   "execution_count": 51,
   "metadata": {},
   "outputs": [],
   "source": [
    "# results_df['hyp_apnea_seconds'] = results_df['sleep_seconds'] - results_df['asleep_non_event_seconds']"
   ]
  },
  {
   "cell_type": "code",
   "execution_count": 67,
   "metadata": {},
   "outputs": [
    {
     "data": {
      "text/html": [
       "<div>\n",
       "<style scoped>\n",
       "    .dataframe tbody tr th:only-of-type {\n",
       "        vertical-align: middle;\n",
       "    }\n",
       "\n",
       "    .dataframe tbody tr th {\n",
       "        vertical-align: top;\n",
       "    }\n",
       "\n",
       "    .dataframe thead th {\n",
       "        text-align: right;\n",
       "    }\n",
       "</style>\n",
       "<table border=\"1\" class=\"dataframe\">\n",
       "  <thead>\n",
       "    <tr style=\"text-align: right;\">\n",
       "      <th></th>\n",
       "      <th>comment</th>\n",
       "      <th>duration_sec</th>\n",
       "      <th>awake_seconds</th>\n",
       "      <th>sleep_seconds</th>\n",
       "      <th>stage_1_seconds</th>\n",
       "      <th>stage_2_seconds</th>\n",
       "      <th>stage_3_seconds</th>\n",
       "      <th>stage_5_seconds</th>\n",
       "      <th>hyp_apnea_seconds</th>\n",
       "      <th>asleep_non_event_seconds</th>\n",
       "      <th>time_in_async_30p</th>\n",
       "      <th>time_in_async_25p</th>\n",
       "      <th>time_in_async_50p</th>\n",
       "      <th>time_in_async_75p</th>\n",
       "    </tr>\n",
       "    <tr>\n",
       "      <th>filename</th>\n",
       "      <th></th>\n",
       "      <th></th>\n",
       "      <th></th>\n",
       "      <th></th>\n",
       "      <th></th>\n",
       "      <th></th>\n",
       "      <th></th>\n",
       "      <th></th>\n",
       "      <th></th>\n",
       "      <th></th>\n",
       "      <th></th>\n",
       "      <th></th>\n",
       "      <th></th>\n",
       "      <th></th>\n",
       "    </tr>\n",
       "  </thead>\n",
       "  <tbody>\n",
       "    <tr>\n",
       "      <td>baseline/chat-baseline-300001</td>\n",
       "      <td>success</td>\n",
       "      <td>32258</td>\n",
       "      <td>3608</td>\n",
       "      <td>28650</td>\n",
       "      <td>930</td>\n",
       "      <td>13020</td>\n",
       "      <td>8610</td>\n",
       "      <td>6090</td>\n",
       "      <td>239</td>\n",
       "      <td>28411</td>\n",
       "      <td>0.0132</td>\n",
       "      <td>0.0223</td>\n",
       "      <td>0.0056</td>\n",
       "      <td>0.0022</td>\n",
       "    </tr>\n",
       "    <tr>\n",
       "      <td>baseline/chat-baseline-300002</td>\n",
       "      <td>success</td>\n",
       "      <td>45349</td>\n",
       "      <td>16219</td>\n",
       "      <td>29130</td>\n",
       "      <td>2460</td>\n",
       "      <td>16440</td>\n",
       "      <td>5490</td>\n",
       "      <td>4740</td>\n",
       "      <td>403</td>\n",
       "      <td>28727</td>\n",
       "      <td>0.0498</td>\n",
       "      <td>0.0825</td>\n",
       "      <td>0.0179</td>\n",
       "      <td>0.0076</td>\n",
       "    </tr>\n",
       "    <tr>\n",
       "      <td>baseline/chat-baseline-300004</td>\n",
       "      <td>success</td>\n",
       "      <td>37545</td>\n",
       "      <td>9795</td>\n",
       "      <td>27750</td>\n",
       "      <td>4530</td>\n",
       "      <td>8400</td>\n",
       "      <td>8700</td>\n",
       "      <td>6120</td>\n",
       "      <td>503</td>\n",
       "      <td>27247</td>\n",
       "      <td>0.2521</td>\n",
       "      <td>0.2821</td>\n",
       "      <td>0.1810</td>\n",
       "      <td>0.1196</td>\n",
       "    </tr>\n",
       "    <tr>\n",
       "      <td>baseline/chat-baseline-300007</td>\n",
       "      <td>success</td>\n",
       "      <td>35792</td>\n",
       "      <td>8042</td>\n",
       "      <td>27750</td>\n",
       "      <td>3540</td>\n",
       "      <td>13650</td>\n",
       "      <td>5370</td>\n",
       "      <td>5190</td>\n",
       "      <td>165</td>\n",
       "      <td>27585</td>\n",
       "      <td>0.0328</td>\n",
       "      <td>0.0440</td>\n",
       "      <td>0.0125</td>\n",
       "      <td>0.0051</td>\n",
       "    </tr>\n",
       "    <tr>\n",
       "      <td>baseline/chat-baseline-300008</td>\n",
       "      <td>success</td>\n",
       "      <td>32477</td>\n",
       "      <td>4517</td>\n",
       "      <td>27960</td>\n",
       "      <td>3840</td>\n",
       "      <td>8910</td>\n",
       "      <td>9900</td>\n",
       "      <td>5310</td>\n",
       "      <td>248</td>\n",
       "      <td>27712</td>\n",
       "      <td>0.3740</td>\n",
       "      <td>0.4175</td>\n",
       "      <td>0.1827</td>\n",
       "      <td>0.0795</td>\n",
       "    </tr>\n",
       "  </tbody>\n",
       "</table>\n",
       "</div>"
      ],
      "text/plain": [
       "                               comment  duration_sec  awake_seconds  \\\n",
       "filename                                                              \n",
       "baseline/chat-baseline-300001  success         32258           3608   \n",
       "baseline/chat-baseline-300002  success         45349          16219   \n",
       "baseline/chat-baseline-300004  success         37545           9795   \n",
       "baseline/chat-baseline-300007  success         35792           8042   \n",
       "baseline/chat-baseline-300008  success         32477           4517   \n",
       "\n",
       "                               sleep_seconds  stage_1_seconds  \\\n",
       "filename                                                        \n",
       "baseline/chat-baseline-300001          28650              930   \n",
       "baseline/chat-baseline-300002          29130             2460   \n",
       "baseline/chat-baseline-300004          27750             4530   \n",
       "baseline/chat-baseline-300007          27750             3540   \n",
       "baseline/chat-baseline-300008          27960             3840   \n",
       "\n",
       "                               stage_2_seconds  stage_3_seconds  \\\n",
       "filename                                                          \n",
       "baseline/chat-baseline-300001            13020             8610   \n",
       "baseline/chat-baseline-300002            16440             5490   \n",
       "baseline/chat-baseline-300004             8400             8700   \n",
       "baseline/chat-baseline-300007            13650             5370   \n",
       "baseline/chat-baseline-300008             8910             9900   \n",
       "\n",
       "                               stage_5_seconds  hyp_apnea_seconds  \\\n",
       "filename                                                            \n",
       "baseline/chat-baseline-300001             6090                239   \n",
       "baseline/chat-baseline-300002             4740                403   \n",
       "baseline/chat-baseline-300004             6120                503   \n",
       "baseline/chat-baseline-300007             5190                165   \n",
       "baseline/chat-baseline-300008             5310                248   \n",
       "\n",
       "                               asleep_non_event_seconds  time_in_async_30p  \\\n",
       "filename                                                                     \n",
       "baseline/chat-baseline-300001                     28411             0.0132   \n",
       "baseline/chat-baseline-300002                     28727             0.0498   \n",
       "baseline/chat-baseline-300004                     27247             0.2521   \n",
       "baseline/chat-baseline-300007                     27585             0.0328   \n",
       "baseline/chat-baseline-300008                     27712             0.3740   \n",
       "\n",
       "                               time_in_async_25p  time_in_async_50p  \\\n",
       "filename                                                              \n",
       "baseline/chat-baseline-300001             0.0223             0.0056   \n",
       "baseline/chat-baseline-300002             0.0825             0.0179   \n",
       "baseline/chat-baseline-300004             0.2821             0.1810   \n",
       "baseline/chat-baseline-300007             0.0440             0.0125   \n",
       "baseline/chat-baseline-300008             0.4175             0.1827   \n",
       "\n",
       "                               time_in_async_75p  \n",
       "filename                                          \n",
       "baseline/chat-baseline-300001             0.0022  \n",
       "baseline/chat-baseline-300002             0.0076  \n",
       "baseline/chat-baseline-300004             0.1196  \n",
       "baseline/chat-baseline-300007             0.0051  \n",
       "baseline/chat-baseline-300008             0.0795  "
      ]
     },
     "execution_count": 67,
     "metadata": {},
     "output_type": "execute_result"
    }
   ],
   "source": [
    "results_df.head()"
   ]
  },
  {
   "cell_type": "code",
   "execution_count": 65,
   "metadata": {},
   "outputs": [
    {
     "data": {
      "text/html": [
       "<div>\n",
       "<style scoped>\n",
       "    .dataframe tbody tr th:only-of-type {\n",
       "        vertical-align: middle;\n",
       "    }\n",
       "\n",
       "    .dataframe tbody tr th {\n",
       "        vertical-align: top;\n",
       "    }\n",
       "\n",
       "    .dataframe thead th {\n",
       "        text-align: right;\n",
       "    }\n",
       "</style>\n",
       "<table border=\"1\" class=\"dataframe\">\n",
       "  <thead>\n",
       "    <tr style=\"text-align: right;\">\n",
       "      <th></th>\n",
       "      <th>comment</th>\n",
       "      <th>duration_sec</th>\n",
       "      <th>awake_seconds</th>\n",
       "      <th>sleep_seconds</th>\n",
       "      <th>stage_1_seconds</th>\n",
       "      <th>stage_2_seconds</th>\n",
       "      <th>stage_3_seconds</th>\n",
       "      <th>stage_5_seconds</th>\n",
       "      <th>hyp_apnea_seconds</th>\n",
       "      <th>asleep_non_event_seconds</th>\n",
       "      <th>time_in_async_30p</th>\n",
       "      <th>time_in_async_25p</th>\n",
       "      <th>time_in_async_50p</th>\n",
       "      <th>time_in_async_75p</th>\n",
       "    </tr>\n",
       "    <tr>\n",
       "      <th>filename</th>\n",
       "      <th></th>\n",
       "      <th></th>\n",
       "      <th></th>\n",
       "      <th></th>\n",
       "      <th></th>\n",
       "      <th></th>\n",
       "      <th></th>\n",
       "      <th></th>\n",
       "      <th></th>\n",
       "      <th></th>\n",
       "      <th></th>\n",
       "      <th></th>\n",
       "      <th></th>\n",
       "      <th></th>\n",
       "    </tr>\n",
       "  </thead>\n",
       "  <tbody>\n",
       "    <tr>\n",
       "      <td>baseline/chat-baseline-300001</td>\n",
       "      <td>success</td>\n",
       "      <td>32258</td>\n",
       "      <td>3608</td>\n",
       "      <td>28650</td>\n",
       "      <td>930</td>\n",
       "      <td>13020</td>\n",
       "      <td>8610</td>\n",
       "      <td>6090</td>\n",
       "      <td>239</td>\n",
       "      <td>28411</td>\n",
       "      <td>0.0132</td>\n",
       "      <td>0.0223</td>\n",
       "      <td>0.0056</td>\n",
       "      <td>0.0022</td>\n",
       "    </tr>\n",
       "  </tbody>\n",
       "</table>\n",
       "</div>"
      ],
      "text/plain": [
       "                               comment  duration_sec  awake_seconds  \\\n",
       "filename                                                              \n",
       "baseline/chat-baseline-300001  success         32258           3608   \n",
       "\n",
       "                               sleep_seconds  stage_1_seconds  \\\n",
       "filename                                                        \n",
       "baseline/chat-baseline-300001          28650              930   \n",
       "\n",
       "                               stage_2_seconds  stage_3_seconds  \\\n",
       "filename                                                          \n",
       "baseline/chat-baseline-300001            13020             8610   \n",
       "\n",
       "                               stage_5_seconds  hyp_apnea_seconds  \\\n",
       "filename                                                            \n",
       "baseline/chat-baseline-300001             6090                239   \n",
       "\n",
       "                               asleep_non_event_seconds  time_in_async_30p  \\\n",
       "filename                                                                     \n",
       "baseline/chat-baseline-300001                     28411             0.0132   \n",
       "\n",
       "                               time_in_async_25p  time_in_async_50p  \\\n",
       "filename                                                              \n",
       "baseline/chat-baseline-300001             0.0223             0.0056   \n",
       "\n",
       "                               time_in_async_75p  \n",
       "filename                                          \n",
       "baseline/chat-baseline-300001             0.0022  "
      ]
     },
     "execution_count": 65,
     "metadata": {},
     "output_type": "execute_result"
    }
   ],
   "source": [
    "results_df.head(1)"
   ]
  },
  {
   "cell_type": "code",
   "execution_count": 79,
   "metadata": {},
   "outputs": [],
   "source": [
    "date_str = '2019_10_30'\n",
    "#results_df.to_csv(f'exports/results_{date_str}.csv', header=True)\n",
    "#results_df.describe().to_csv(f'exports/results_stats_{date_str}.csv', header=True)"
   ]
  },
  {
   "cell_type": "code",
   "execution_count": 66,
   "metadata": {},
   "outputs": [],
   "source": []
  },
  {
   "cell_type": "code",
   "execution_count": 94,
   "metadata": {},
   "outputs": [
    {
     "data": {
      "text/plain": [
       "array([[1.04e-322, 1.04e-322, 1.04e-322]])"
      ]
     },
     "execution_count": 94,
     "metadata": {},
     "output_type": "execute_result"
    }
   ],
   "source": [
    "np.empty((1,3))"
   ]
  },
  {
   "cell_type": "code",
   "execution_count": 78,
   "metadata": {},
   "outputs": [
    {
     "data": {
      "text/plain": [
       "comment                      object\n",
       "duration_sec                  int64\n",
       "awake_seconds                 int64\n",
       "sleep_seconds                 int64\n",
       "stage_1_seconds               int64\n",
       "stage_2_seconds               int64\n",
       "stage_3_seconds               int64\n",
       "stage_5_seconds               int64\n",
       "hyp_apnea_seconds             int64\n",
       "asleep_non_event_seconds      int64\n",
       "time_in_async_30p           float64\n",
       "time_in_async_25p           float64\n",
       "time_in_async_50p           float64\n",
       "time_in_async_75p           float64\n",
       "dtype: object"
      ]
     },
     "execution_count": 78,
     "metadata": {},
     "output_type": "execute_result"
    }
   ],
   "source": [
    "results_df.dtypes"
   ]
  },
  {
   "cell_type": "code",
   "execution_count": 83,
   "metadata": {},
   "outputs": [
    {
     "data": {
      "text/html": [
       "<div>\n",
       "<style scoped>\n",
       "    .dataframe tbody tr th:only-of-type {\n",
       "        vertical-align: middle;\n",
       "    }\n",
       "\n",
       "    .dataframe tbody tr th {\n",
       "        vertical-align: top;\n",
       "    }\n",
       "\n",
       "    .dataframe thead th {\n",
       "        text-align: right;\n",
       "    }\n",
       "</style>\n",
       "<table border=\"1\" class=\"dataframe\">\n",
       "  <thead>\n",
       "    <tr style=\"text-align: right;\">\n",
       "      <th></th>\n",
       "      <th>filename</th>\n",
       "      <th>duration_sec</th>\n",
       "      <th>awake_seconds</th>\n",
       "      <th>sleep_seconds</th>\n",
       "      <th>stage_1_seconds</th>\n",
       "      <th>stage_2_seconds</th>\n",
       "      <th>stage_3_seconds</th>\n",
       "      <th>stage_5_seconds</th>\n",
       "      <th>hyp_apnea_seconds</th>\n",
       "      <th>asleep_non_event_seconds</th>\n",
       "      <th>time_in_async</th>\n",
       "      <th>time_in_async_20p</th>\n",
       "      <th>time_in_async_25p</th>\n",
       "      <th>time_in_async_30p</th>\n",
       "      <th>time_in_async_25p</th>\n",
       "      <th>time_in_async_40p</th>\n",
       "      <th>time_in_async_25p</th>\n",
       "    </tr>\n",
       "  </thead>\n",
       "  <tbody>\n",
       "    <tr>\n",
       "      <td>baseline/chat-baseline-300004</td>\n",
       "      <td>baseline/chat-baseline-300004</td>\n",
       "      <td>37545</td>\n",
       "      <td>9795</td>\n",
       "      <td>27750</td>\n",
       "      <td>4530</td>\n",
       "      <td>8400</td>\n",
       "      <td>8700</td>\n",
       "      <td>6120</td>\n",
       "      <td>27247</td>\n",
       "      <td>27247</td>\n",
       "      <td>0.25213785003853634</td>\n",
       "      <td>0.32150328476529527</td>\n",
       "      <td>0.2820861012221529</td>\n",
       "      <td>0.25213785003853634</td>\n",
       "      <td>0.2293830513451022</td>\n",
       "      <td>0.210004771167468</td>\n",
       "      <td>0.19492054171101406</td>\n",
       "    </tr>\n",
       "    <tr>\n",
       "      <td>baseline/chat-baseline-300013</td>\n",
       "      <td>baseline/chat-baseline-300013</td>\n",
       "      <td>37446</td>\n",
       "      <td>7326</td>\n",
       "      <td>30120</td>\n",
       "      <td>1620</td>\n",
       "      <td>12450</td>\n",
       "      <td>12060</td>\n",
       "      <td>3990</td>\n",
       "      <td>29866</td>\n",
       "      <td>29866</td>\n",
       "      <td>0.08755775798566932</td>\n",
       "      <td>0.19011585080024107</td>\n",
       "      <td>0.1351704279113373</td>\n",
       "      <td>0.08755775798566932</td>\n",
       "      <td>0.05240072323042925</td>\n",
       "      <td>0.025915757048148396</td>\n",
       "      <td>0.013962365231366772</td>\n",
       "    </tr>\n",
       "  </tbody>\n",
       "</table>\n",
       "</div>"
      ],
      "text/plain": [
       "                                                    filename duration_sec  \\\n",
       "baseline/chat-baseline-300004  baseline/chat-baseline-300004        37545   \n",
       "baseline/chat-baseline-300013  baseline/chat-baseline-300013        37446   \n",
       "\n",
       "                              awake_seconds sleep_seconds stage_1_seconds  \\\n",
       "baseline/chat-baseline-300004          9795         27750            4530   \n",
       "baseline/chat-baseline-300013          7326         30120            1620   \n",
       "\n",
       "                              stage_2_seconds stage_3_seconds stage_5_seconds  \\\n",
       "baseline/chat-baseline-300004            8400            8700            6120   \n",
       "baseline/chat-baseline-300013           12450           12060            3990   \n",
       "\n",
       "                              hyp_apnea_seconds asleep_non_event_seconds  \\\n",
       "baseline/chat-baseline-300004             27247                    27247   \n",
       "baseline/chat-baseline-300013             29866                    29866   \n",
       "\n",
       "                                     time_in_async    time_in_async_20p  \\\n",
       "baseline/chat-baseline-300004  0.25213785003853634  0.32150328476529527   \n",
       "baseline/chat-baseline-300013  0.08755775798566932  0.19011585080024107   \n",
       "\n",
       "                                time_in_async_25p    time_in_async_30p  \\\n",
       "baseline/chat-baseline-300004  0.2820861012221529  0.25213785003853634   \n",
       "baseline/chat-baseline-300013  0.1351704279113373  0.08755775798566932   \n",
       "\n",
       "                                 time_in_async_25p     time_in_async_40p  \\\n",
       "baseline/chat-baseline-300004   0.2293830513451022     0.210004771167468   \n",
       "baseline/chat-baseline-300013  0.05240072323042925  0.025915757048148396   \n",
       "\n",
       "                                  time_in_async_25p  \n",
       "baseline/chat-baseline-300004   0.19492054171101406  \n",
       "baseline/chat-baseline-300013  0.013962365231366772  "
      ]
     },
     "execution_count": 83,
     "metadata": {},
     "output_type": "execute_result"
    }
   ],
   "source": [
    "results_df"
   ]
  },
  {
   "cell_type": "code",
   "execution_count": 75,
   "metadata": {},
   "outputs": [
    {
     "data": {
      "text/html": [
       "<div>\n",
       "<style scoped>\n",
       "    .dataframe tbody tr th:only-of-type {\n",
       "        vertical-align: middle;\n",
       "    }\n",
       "\n",
       "    .dataframe tbody tr th {\n",
       "        vertical-align: top;\n",
       "    }\n",
       "\n",
       "    .dataframe thead th {\n",
       "        text-align: right;\n",
       "    }\n",
       "</style>\n",
       "<table border=\"1\" class=\"dataframe\">\n",
       "  <thead>\n",
       "    <tr style=\"text-align: right;\">\n",
       "      <th></th>\n",
       "      <th>filename</th>\n",
       "      <th>duration_sec</th>\n",
       "      <th>awake_seconds</th>\n",
       "      <th>sleep_seconds</th>\n",
       "      <th>stage_1_seconds</th>\n",
       "      <th>stage_2_seconds</th>\n",
       "      <th>stage_3_seconds</th>\n",
       "      <th>stage_5_seconds</th>\n",
       "      <th>hyp_apnea_seconds</th>\n",
       "      <th>asleep_non_event_seconds</th>\n",
       "      <th>time_in_async</th>\n",
       "      <th>time_in_async_20p</th>\n",
       "      <th>time_in_async_25p</th>\n",
       "      <th>time_in_async_30p</th>\n",
       "      <th>time_in_async_25p</th>\n",
       "      <th>time_in_async_40p</th>\n",
       "      <th>time_in_async_25p</th>\n",
       "    </tr>\n",
       "  </thead>\n",
       "  <tbody>\n",
       "    <tr>\n",
       "      <td>baseline/chat-baseline-300004</td>\n",
       "      <td>baseline/chat-baseline-300004</td>\n",
       "      <td>37545</td>\n",
       "      <td>9795</td>\n",
       "      <td>27750</td>\n",
       "      <td>4530</td>\n",
       "      <td>8400</td>\n",
       "      <td>8700</td>\n",
       "      <td>6120</td>\n",
       "      <td>27247</td>\n",
       "      <td>27247</td>\n",
       "      <td>0.25213785003853634</td>\n",
       "      <td>0.32150328476529527</td>\n",
       "      <td>0.2820861012221529</td>\n",
       "      <td>0.25213785003853634</td>\n",
       "      <td>0.2293830513451022</td>\n",
       "      <td>0.210004771167468</td>\n",
       "      <td>0.19492054171101406</td>\n",
       "    </tr>\n",
       "    <tr>\n",
       "      <td>baseline/chat-baseline-300013</td>\n",
       "      <td>baseline/chat-baseline-300013</td>\n",
       "      <td>37446</td>\n",
       "      <td>7326</td>\n",
       "      <td>30120</td>\n",
       "      <td>1620</td>\n",
       "      <td>12450</td>\n",
       "      <td>12060</td>\n",
       "      <td>3990</td>\n",
       "      <td>29866</td>\n",
       "      <td>29866</td>\n",
       "      <td>0.08755775798566932</td>\n",
       "      <td>0.19011585080024107</td>\n",
       "      <td>0.1351704279113373</td>\n",
       "      <td>0.08755775798566932</td>\n",
       "      <td>0.05240072323042925</td>\n",
       "      <td>0.025915757048148396</td>\n",
       "      <td>0.013962365231366772</td>\n",
       "    </tr>\n",
       "  </tbody>\n",
       "</table>\n",
       "</div>"
      ],
      "text/plain": [
       "                                                    filename duration_sec  \\\n",
       "baseline/chat-baseline-300004  baseline/chat-baseline-300004        37545   \n",
       "baseline/chat-baseline-300013  baseline/chat-baseline-300013        37446   \n",
       "\n",
       "                              awake_seconds sleep_seconds stage_1_seconds  \\\n",
       "baseline/chat-baseline-300004          9795         27750            4530   \n",
       "baseline/chat-baseline-300013          7326         30120            1620   \n",
       "\n",
       "                              stage_2_seconds stage_3_seconds stage_5_seconds  \\\n",
       "baseline/chat-baseline-300004            8400            8700            6120   \n",
       "baseline/chat-baseline-300013           12450           12060            3990   \n",
       "\n",
       "                              hyp_apnea_seconds asleep_non_event_seconds  \\\n",
       "baseline/chat-baseline-300004             27247                    27247   \n",
       "baseline/chat-baseline-300013             29866                    29866   \n",
       "\n",
       "                                     time_in_async    time_in_async_20p  \\\n",
       "baseline/chat-baseline-300004  0.25213785003853634  0.32150328476529527   \n",
       "baseline/chat-baseline-300013  0.08755775798566932  0.19011585080024107   \n",
       "\n",
       "                                time_in_async_25p    time_in_async_30p  \\\n",
       "baseline/chat-baseline-300004  0.2820861012221529  0.25213785003853634   \n",
       "baseline/chat-baseline-300013  0.1351704279113373  0.08755775798566932   \n",
       "\n",
       "                                 time_in_async_25p     time_in_async_40p  \\\n",
       "baseline/chat-baseline-300004   0.2293830513451022     0.210004771167468   \n",
       "baseline/chat-baseline-300013  0.05240072323042925  0.025915757048148396   \n",
       "\n",
       "                                  time_in_async_25p  \n",
       "baseline/chat-baseline-300004   0.19492054171101406  \n",
       "baseline/chat-baseline-300013  0.013962365231366772  "
      ]
     },
     "execution_count": 75,
     "metadata": {},
     "output_type": "execute_result"
    }
   ],
   "source": [
    "results_df_orig"
   ]
  },
  {
   "cell_type": "code",
   "execution_count": null,
   "metadata": {},
   "outputs": [],
   "source": []
  },
  {
   "cell_type": "code",
   "execution_count": 119,
   "metadata": {},
   "outputs": [],
   "source": [
    "import librosa\n",
    "abd_stft = librosa.stft(sigs[0], n_fft=512, win_length=512)"
   ]
  },
  {
   "cell_type": "code",
   "execution_count": 120,
   "metadata": {},
   "outputs": [
    {
     "data": {
      "text/plain": [
       "array([[ 2.2297444e+03+0.0000000e+00j,  2.2297444e+03+0.0000000e+00j,\n",
       "         2.2297444e+03+0.0000000e+00j,  2.2297444e+03+0.0000000e+00j,\n",
       "         2.2297444e+03+0.0000000e+00j],\n",
       "       [-1.1148722e+03+1.8103927e-06j, -1.1148722e+03+4.2418683e-06j,\n",
       "        -1.1148722e+03-7.2597636e-06j, -1.1148722e+03+4.8980955e-06j,\n",
       "        -1.1148722e+03+8.4729157e-07j],\n",
       "       [ 4.3148368e-05-1.1607954e-05j, -3.5863650e-05-2.5851639e-05j,\n",
       "         2.7103206e-06+4.4517958e-05j,  3.2103282e-05-3.1169391e-05j,\n",
       "        -4.3877033e-05-5.2358600e-06j],\n",
       "       [-4.5741639e-05+1.1831351e-05j,  3.9784747e-05+2.8701152e-05j,\n",
       "        -4.5752799e-06-4.8121641e-05j, -3.4906956e-05+3.2143424e-05j,\n",
       "         4.8744354e-05+5.8005276e-06j],\n",
       "       [ 3.3357603e-05-1.4721012e-05j, -1.3998673e-06+1.7351787e-05j,\n",
       "        -2.4638781e-05+1.3255505e-05j,  1.0010871e-05-3.3202803e-05j,\n",
       "         1.3037528e-05+5.3128415e-06j]], dtype=complex64)"
      ]
     },
     "execution_count": 120,
     "metadata": {},
     "output_type": "execute_result"
    }
   ],
   "source": [
    "abd_stft[:5,1000:1005]"
   ]
  },
  {
   "cell_type": "code",
   "execution_count": 132,
   "metadata": {},
   "outputs": [
    {
     "data": {
      "text/plain": [
       "array([[207,   6, 205, 205, 147],\n",
       "       [  6, 205, 202, 147, 205],\n",
       "       [205, 202,   7,   7,   7],\n",
       "       [  7,   7,   6, 256,   6],\n",
       "       [  4,   4,   4,   4,   4],\n",
       "       [  5,   5,   5,   5,   5],\n",
       "       [  3,   3,   3,   3,   3],\n",
       "       [  2,   1,   2,   2,   2],\n",
       "       [  1,   2,   1,   1,   1],\n",
       "       [  0,   0,   0,   0,   0]])"
      ]
     },
     "execution_count": 132,
     "metadata": {},
     "output_type": "execute_result"
    }
   ],
   "source": [
    "np.argsort(np.abs(abd_stft[:,3000:3005]), axis=0)[-10:]"
   ]
  },
  {
   "cell_type": "code",
   "execution_count": 131,
   "metadata": {},
   "outputs": [
    {
     "name": "stdout",
     "output_type": "stream",
     "text": [
      "1 0.390625\n",
      "38 14.84375\n",
      "197 76.953125\n",
      "159 62.109375\n",
      "156 60.9375\n"
     ]
    }
   ],
   "source": [
    "fft_freq = librosa.fft_frequencies(sr=200, n_fft=512)\n",
    "print(f\"1 {fft_freq[1]}\")\n",
    "print(f\"38 {fft_freq[38]}\")\n",
    "print(f\"197 {fft_freq[197]}\")\n",
    "print(f\"159 {fft_freq[159]}\")\n",
    "print(f\"156 {fft_freq[156]}\")"
   ]
  },
  {
   "cell_type": "code",
   "execution_count": 122,
   "metadata": {},
   "outputs": [
    {
     "data": {
      "text/plain": [
       "<matplotlib.image.AxesImage at 0x1614f7bd0>"
      ]
     },
     "execution_count": 122,
     "metadata": {},
     "output_type": "execute_result"
    },
    {
     "data": {
      "image/png": "[encoded data removed]",
      "text/plain": [
       "<Figure size 1440x720 with 1 Axes>"
      ]
     },
     "metadata": {
      "needs_background": "light"
     },
     "output_type": "display_data"
    }
   ],
   "source": [
    "plt.figure(figsize=(20,10))\n",
    "plt.imshow(np.power(np.abs(abd_stft[:,1000:2000]),0.5))"
   ]
  },
  {
   "cell_type": "code",
   "execution_count": 142,
   "metadata": {},
   "outputs": [
    {
     "data": {
      "text/plain": [
       "<matplotlib.axes._subplots.AxesSubplot at 0x177f3e610>"
      ]
     },
     "execution_count": 142,
     "metadata": {},
     "output_type": "execute_result"
    },
    {
     "data": {
      "image/png": "[encoded data removed]",
      "text/plain": [
       "<Figure size 432x288 with 1 Axes>"
      ]
     },
     "metadata": {},
     "output_type": "display_data"
    }
   ],
   "source": [
    "import librosa.display\n",
    "librosa.display.specshow(np.abs(abd_stft[:,1000:1010]),sr=200)"
   ]
  },
  {
   "cell_type": "code",
   "execution_count": null,
   "metadata": {},
   "outputs": [],
   "source": []
  },
  {
   "cell_type": "code",
   "execution_count": 234,
   "metadata": {},
   "outputs": [],
   "source": [
    "abd, chest = preprocess(sigs)"
   ]
  },
  {
   "cell_type": "code",
   "execution_count": 44,
   "metadata": {},
   "outputs": [
    {
     "data": {
      "text/plain": [
       "[<matplotlib.lines.Line2D at 0x13f14f290>]"
      ]
     },
     "execution_count": 44,
     "metadata": {},
     "output_type": "execute_result"
    },
    {
     "data": {
      "image/png": "[encoded data removed]",
      "text/plain": [
       "<Figure size 1008x432 with 1 Axes>"
      ]
     },
     "metadata": {
      "needs_background": "light"
     },
     "output_type": "display_data"
    }
   ],
   "source": [
    "plt.figure(figsize=(14,6))\n",
    "# plt.plot(sigs[0,rng], 'y')\n",
    "start = 4_000\n",
    "end = start + 10\n",
    "#x = np.arange(start, end)\n",
    "#plt.ylim(-0.2, 0.2)\n",
    "plt.plot(np.linspace(start, end, (end-start)*64), abd[start*64:end*64], 'b')\n",
    "plt.plot(np.linspace(start, end, (end-start)*200), sigs[0,start*200:end*200], 'g', alpha=0.4)\n",
    "\n",
    "#plt.plot(np.linspace(start, end, (end-start)*64), chest[start*64:end*64], 'r')\n",
    "#plt.plot(np.linspace(start, end, (end-start)*200), sigs[1,start*200:end*200], 'y', alpha=0.4)"
   ]
  },
  {
   "cell_type": "code",
   "execution_count": 267,
   "metadata": {},
   "outputs": [
    {
     "data": {
      "text/plain": [
       "[<matplotlib.lines.Line2D at 0x1fdb22090>]"
      ]
     },
     "execution_count": 267,
     "metadata": {},
     "output_type": "execute_result"
    },
    {
     "data": {
      "image/png": "[encoded data removed]",
      "text/plain": [
       "<Figure size 1008x432 with 1 Axes>"
      ]
     },
     "metadata": {
      "needs_background": "light"
     },
     "output_type": "display_data"
    }
   ],
   "source": [
    "plt.figure(figsize=(14,6))\n",
    "# plt.plot(sigs[0,rng], 'y')\n",
    "start = 41\n",
    "end = start + 20\n",
    "#x = np.arange(start, end)\n",
    "plt.ylim(-0.2, 0.2)\n",
    "plt.plot(np.linspace(start, end, (end-start)*64), abd[start*64:end*64], 'b')\n",
    "plt.plot(np.linspace(start, end, (end-start)*200), sigs[0,start*200:end*200], 'g', alpha=0.4)\n",
    "\n",
    "plt.plot(np.linspace(start, end, (end-start)*64), chest[start*64:end*64], 'r')\n",
    "plt.plot(np.linspace(start, end, (end-start)*200), sigs[1,start*200:end*200], 'y', alpha=0.4)"
   ]
  },
  {
   "cell_type": "code",
   "execution_count": 232,
   "metadata": {},
   "outputs": [],
   "source": [
    "# resample to 64Hz\n",
    "abd_64 = signal.resample(sigs[0], int(len(sigs[0])*64/200 ))\n",
    "chest_64 = signal.resample(sigs[0], int(len(sigs[1])*64/200 ))"
   ]
  },
  {
   "cell_type": "code",
   "execution_count": 231,
   "metadata": {},
   "outputs": [
    {
     "data": {
      "text/plain": [
       "[<matplotlib.lines.Line2D at 0x18fda0550>]"
      ]
     },
     "execution_count": 231,
     "metadata": {},
     "output_type": "execute_result"
    },
    {
     "data": {
      "image/png": "[encoded data removed]",
      "text/plain": [
       "<Figure size 864x432 with 1 Axes>"
      ]
     },
     "metadata": {
      "needs_background": "light"
     },
     "output_type": "display_data"
    }
   ],
   "source": [
    "plt.figure(figsize=(12,6))\n",
    "# plt.plot(sigs[0,rng], 'y')\n",
    "start, end = 10, 15\n",
    "#x = np.arange(start, end)\n",
    "plt.plot(np.linspace(start, end, (end-start)*64), abd_64[start*64:end*64], 'y')\n",
    "plt.plot(np.linspace(start, end, (end-start)*200), sigs[0,start*200:end*200], 'g', alpha=0.4)"
   ]
  },
  {
   "cell_type": "code",
   "execution_count": 220,
   "metadata": {},
   "outputs": [],
   "source": [
    "import scipy.signal as signal\n",
    "bands =   (0, 0.05, 0.1, 5, 10, 32)\n",
    "desired = (0, 0,    1,   1, 0, 0)\n",
    "# b_firwin = signal.firwin(numtaps=73, cutoff=5, fs=200, pass_zero=False)\n",
    "b_firwin = signal.firwin2(73, bands, desired, fs=64)\n",
    "b_firls = signal.firls(73, bands, desired, fs=64)\n",
    "#signal.firwin?"
   ]
  },
  {
   "cell_type": "code",
   "execution_count": 221,
   "metadata": {},
   "outputs": [],
   "source": [
    "#freq, response = signal.freqz(b_firwin)\n",
    "y = signal.filtfilt(b_firwin, 1, abd_64)\n",
    "y2 = signal.filtfilt(b_firls, 1, abd_64)"
   ]
  },
  {
   "cell_type": "code",
   "execution_count": 227,
   "metadata": {},
   "outputs": [
    {
     "data": {
      "text/plain": [
       "[<matplotlib.lines.Line2D at 0x199965b90>]"
      ]
     },
     "execution_count": 227,
     "metadata": {},
     "output_type": "execute_result"
    },
    {
     "data": {
      "image/png": "[encoded data removed]",
      "text/plain": [
       "<Figure size 864x432 with 1 Axes>"
      ]
     },
     "metadata": {
      "needs_background": "light"
     },
     "output_type": "display_data"
    }
   ],
   "source": [
    "rng = np.arange(300,1000)\n",
    "plt.figure(figsize=(12,6))\n",
    "# plt.plot(sigs[0,rng], 'y')\n",
    "plt.plot(abd_64[rng], 'y')\n",
    "plt.plot(y[rng], 'r')\n",
    "#plt.plot(y2[rng], 'g')"
   ]
  },
  {
   "cell_type": "code",
   "execution_count": 21,
   "metadata": {},
   "outputs": [
    {
     "data": {
      "text/plain": [
       "[('Event', 0),\n",
       " ('C3', 1),\n",
       " ('C4', 2),\n",
       " ('O1', 3),\n",
       " ('O2', 4),\n",
       " ('M1', 5),\n",
       " ('M2', 6),\n",
       " ('Cchin', 7),\n",
       " ('F3', 8),\n",
       " ('F4', 9),\n",
       " ('F7', 10),\n",
       " ('F8', 11),\n",
       " ('Fz', 12),\n",
       " ('Fp1', 13),\n",
       " ('Fp2', 14),\n",
       " ('Fpz', 15),\n",
       " ('P3', 16),\n",
       " ('P4', 17),\n",
       " ('ECG3', 18),\n",
       " ('T3', 19),\n",
       " ('T4', 20),\n",
       " ('T5', 21),\n",
       " ('T6', 22),\n",
       " ('E1', 23),\n",
       " ('E2', 24),\n",
       " ('Lchin', 25),\n",
       " ('Rchin', 26),\n",
       " ('ECG2', 27),\n",
       " ('ECG1', 28),\n",
       " ('Lleg1', 29),\n",
       " ('Lleg2', 30),\n",
       " ('Rleg1', 31),\n",
       " ('Rleg2', 32),\n",
       " ('Chest', 33),\n",
       " ('ABD', 34),\n",
       " ('Airflow', 35),\n",
       " ('Snore', 36),\n",
       " ('CannulaFlow', 37),\n",
       " ('SUM', 38),\n",
       " ('Position', 39),\n",
       " ('DC2', 40),\n",
       " ('DC3', 41),\n",
       " ('DC4', 42),\n",
       " ('CPress', 43),\n",
       " ('CFlow', 44),\n",
       " ('Cap', 45),\n",
       " ('EtCO2', 46),\n",
       " ('EXTSAT', 47),\n",
       " ('Pleth', 48),\n",
       " ('SAO2', 49),\n",
       " ('PR', 50),\n",
       " ('DHR', 51)]"
      ]
     },
     "execution_count": 21,
     "metadata": {},
     "output_type": "execute_result"
    }
   ],
   "source": [
    "signal_labels = f.getSignalLabels()\n",
    "list(zip(signal_labels, range(len(signal_labels))))"
   ]
  },
  {
   "cell_type": "code",
   "execution_count": 22,
   "metadata": {},
   "outputs": [
    {
     "data": {
      "text/plain": [
       "array([7509000, 7509000, 7509000, 7509000, 7509000, 7509000, 7509000,\n",
       "       7509000, 7509000, 7509000, 7509000, 7509000, 7509000, 7509000,\n",
       "       7509000, 7509000, 7509000, 7509000, 7509000, 7509000, 7509000,\n",
       "       7509000, 7509000, 7509000, 7509000, 7509000, 7509000, 7509000,\n",
       "       7509000, 7509000, 7509000, 7509000, 7509000, 7509000, 7509000,\n",
       "       7509000, 7509000, 7509000, 7509000, 7509000, 7509000, 7509000,\n",
       "       7509000, 7509000, 7509000, 7509000, 7509000, 7509000, 7509000,\n",
       "       7509000, 7509000, 7509000])"
      ]
     },
     "execution_count": 22,
     "metadata": {},
     "output_type": "execute_result"
    }
   ],
   "source": [
    "f.getNSamples()"
   ]
  },
  {
   "cell_type": "code",
   "execution_count": null,
   "metadata": {},
   "outputs": [],
   "source": []
  },
  {
   "cell_type": "markdown",
   "metadata": {},
   "source": [
    "## Learn about Welch's power spectral density estimation"
   ]
  },
  {
   "cell_type": "code",
   "execution_count": 7,
   "metadata": {},
   "outputs": [],
   "source": [
    "fs = 10e3\n",
    "N = 1e5\n",
    "amp = 2*np.sqrt(2)\n",
    "freq = 1234.0\n",
    "noise_power = 0.001 * fs / 2\n",
    "time = np.arange(N) / fs\n",
    "x = amp*np.sin(2*np.pi*freq*time)\n",
    "x += np.random.normal(scale=np.sqrt(noise_power), size=time.shape)"
   ]
  },
  {
   "cell_type": "code",
   "execution_count": 8,
   "metadata": {},
   "outputs": [
    {
     "data": {
      "text/plain": [
       "[<matplotlib.lines.Line2D at 0x12f6b2690>]"
      ]
     },
     "execution_count": 8,
     "metadata": {},
     "output_type": "execute_result"
    },
    {
     "data": {
      "image/png": "[encoded data removed]",
      "text/plain": [
       "<Figure size 432x288 with 1 Axes>"
      ]
     },
     "metadata": {
      "needs_background": "light"
     },
     "output_type": "display_data"
    }
   ],
   "source": [
    "plt.plot(x)"
   ]
  },
  {
   "cell_type": "code",
   "execution_count": 9,
   "metadata": {},
   "outputs": [
    {
     "data": {
      "image/png": "[encoded data removed]",
      "text/plain": [
       "<Figure size 432x288 with 1 Axes>"
      ]
     },
     "metadata": {
      "needs_background": "light"
     },
     "output_type": "display_data"
    }
   ],
   "source": [
    "f, Pxx_den = signal.welch(x, fs, nperseg=1024)\n",
    "plt.semilogy(f, Pxx_den)\n",
    "plt.ylim([0.5e-3, 1])\n",
    "plt.xlabel('frequency [Hz]')\n",
    "plt.ylabel('PSD [V**2/Hz]')\n",
    "plt.show()"
   ]
  },
  {
   "cell_type": "code",
   "execution_count": 10,
   "metadata": {},
   "outputs": [
    {
     "data": {
      "text/plain": [
       "(513,)"
      ]
     },
     "execution_count": 10,
     "metadata": {},
     "output_type": "execute_result"
    }
   ],
   "source": [
    "f.shape"
   ]
  },
  {
   "cell_type": "code",
   "execution_count": null,
   "metadata": {},
   "outputs": [],
   "source": []
  },
  {
   "cell_type": "code",
   "execution_count": 11,
   "metadata": {},
   "outputs": [
    {
     "data": {
      "text/plain": [
       "(513,)"
      ]
     },
     "execution_count": 11,
     "metadata": {},
     "output_type": "execute_result"
    }
   ],
   "source": [
    "Pxx_den.shape"
   ]
  },
  {
   "cell_type": "code",
   "execution_count": 116,
   "metadata": {},
   "outputs": [
    {
     "data": {
      "text/plain": [
       "[<matplotlib.lines.Line2D at 0x13ea71790>]"
      ]
     },
     "execution_count": 116,
     "metadata": {},
     "output_type": "execute_result"
    },
    {
     "data": {
      "image/png": "[encoded data removed]",
      "text/plain": [
       "<Figure size 1152x288 with 1 Axes>"
      ]
     },
     "metadata": {
      "needs_background": "light"
     },
     "output_type": "display_data"
    }
   ],
   "source": [
    "s = 3_624*64\n",
    "rng = np.arange(s,s+60*64)\n",
    "plt.figure(figsize=(16,4))\n",
    "#plt.plot(rng, abd[rng], 'y')\n",
    "plt.plot(np.arange(60*64)/64,abd[rng], 'y')\n",
    "plt.plot(np.arange(60*64)/64,chest[rng], 'b')"
   ]
  },
  {
   "cell_type": "code",
   "execution_count": 304,
   "metadata": {},
   "outputs": [
    {
     "data": {
      "text/plain": [
       "3.3333333333333335"
      ]
     },
     "execution_count": 304,
     "metadata": {},
     "output_type": "execute_result"
    }
   ],
   "source": [
    "1/0.3"
   ]
  },
  {
   "cell_type": "code",
   "execution_count": 303,
   "metadata": {},
   "outputs": [
    {
     "data": {
      "text/plain": [
       "0.3"
      ]
     },
     "execution_count": 303,
     "metadata": {},
     "output_type": "execute_result"
    }
   ],
   "source": [
    "18/60"
   ]
  },
  {
   "cell_type": "code",
   "execution_count": 305,
   "metadata": {},
   "outputs": [
    {
     "name": "stdout",
     "output_type": "stream",
     "text": [
      "0.3125\n"
     ]
    },
    {
     "data": {
      "image/png": "[encoded data removed]",
      "text/plain": [
       "<Figure size 432x288 with 1 Axes>"
      ]
     },
     "metadata": {
      "needs_background": "light"
     },
     "output_type": "display_data"
    }
   ],
   "source": [
    "f, Pxx_den = signal.welch(chest[rng], 64, nfft=1024)\n",
    "print(f[np.argmax(Pxx_den)])\n",
    "plt.semilogy(f, Pxx_den)\n",
    "#plt.ylim([0.5e-5, 1])\n",
    "plt.xlabel('frequency [Hz]')\n",
    "plt.ylabel('PSD [V**2/Hz]')\n",
    "plt.show()"
   ]
  },
  {
   "cell_type": "markdown",
   "metadata": {},
   "source": [
    "## number 1"
   ]
  },
  {
   "cell_type": "code",
   "execution_count": 308,
   "metadata": {},
   "outputs": [
    {
     "data": {
      "text/plain": [
       "array([0.125 , 0.1875, 0.25  , 0.3125, 0.375 , 0.4375, 0.5   , 0.5625])"
      ]
     },
     "execution_count": 308,
     "metadata": {},
     "output_type": "execute_result"
    }
   ],
   "source": [
    "f[2:10]"
   ]
  },
  {
   "cell_type": "code",
   "execution_count": 306,
   "metadata": {},
   "outputs": [
    {
     "data": {
      "text/plain": [
       "0.31680387786647557"
      ]
     },
     "execution_count": 306,
     "metadata": {},
     "output_type": "execute_result"
    }
   ],
   "source": [
    "np.sum(Pxx_den)"
   ]
  },
  {
   "cell_type": "code",
   "execution_count": 309,
   "metadata": {},
   "outputs": [
    {
     "data": {
      "text/plain": [
       "0.26294395076817106"
      ]
     },
     "execution_count": 309,
     "metadata": {},
     "output_type": "execute_result"
    }
   ],
   "source": [
    "np.sum(Pxx_den[2:10])"
   ]
  },
  {
   "cell_type": "code",
   "execution_count": 311,
   "metadata": {},
   "outputs": [
    {
     "data": {
      "text/plain": [
       "0.8299896849084498"
      ]
     },
     "execution_count": 311,
     "metadata": {},
     "output_type": "execute_result"
    }
   ],
   "source": [
    "np.sum(Pxx_den[2:10]) / np.sum(Pxx_den)"
   ]
  },
  {
   "cell_type": "markdown",
   "metadata": {},
   "source": [
    "## number 2"
   ]
  },
  {
   "cell_type": "code",
   "execution_count": 312,
   "metadata": {},
   "outputs": [
    {
     "name": "stdout",
     "output_type": "stream",
     "text": [
      "0.3125\n"
     ]
    }
   ],
   "source": [
    "print(f[np.argmax(Pxx_den)])"
   ]
  },
  {
   "cell_type": "markdown",
   "metadata": {},
   "source": [
    "# Test 3"
   ]
  },
  {
   "cell_type": "code",
   "execution_count": 313,
   "metadata": {},
   "outputs": [
    {
     "name": "stdout",
     "output_type": "stream",
     "text": [
      "0.25\n"
     ]
    }
   ],
   "source": [
    "f, Pxx_den = signal.welch(abd[rng], 64, nfft=1024)\n",
    "print(f[np.argmax(Pxx_den)])"
   ]
  },
  {
   "cell_type": "code",
   "execution_count": 317,
   "metadata": {},
   "outputs": [
    {
     "data": {
      "text/plain": [
       "0.25"
      ]
     },
     "execution_count": 317,
     "metadata": {},
     "output_type": "execute_result"
    }
   ],
   "source": [
    "(0.3125 - 0.25) / 0.25"
   ]
  },
  {
   "cell_type": "code",
   "execution_count": 79,
   "metadata": {},
   "outputs": [
    {
     "data": {
      "text/plain": [
       "[<matplotlib.lines.Line2D at 0x13d39b550>]"
      ]
     },
     "execution_count": 79,
     "metadata": {},
     "output_type": "execute_result"
    },
    {
     "data": {
      "image/png": "[encoded data removed]",
      "text/plain": [
       "<Figure size 1152x288 with 1 Axes>"
      ]
     },
     "metadata": {
      "needs_background": "light"
     },
     "output_type": "display_data"
    }
   ],
   "source": [
    "freq = 64\n",
    "start_time = 5_600\n",
    "window_len=60\n",
    "\n",
    "plot_range = np.arange(start_time*freq, (start_time+window_len)*freq)\n",
    "\n",
    "time_range = np.empty_like(plot_range, dtype='datetime64[ms]')\n",
    "for i in range(len(plot_range)):\n",
    "    time_range[i] = start_dt.naive + td(milliseconds=plot_range[i]*1/freq*1000)\n",
    "\n",
    "plt.figure(figsize=(16,4))\n",
    "plt.title('ABD / Chest')\n",
    "plt.plot(time_range, abd[plot_range])\n",
    "    "
   ]
  },
  {
   "cell_type": "code",
   "execution_count": 226,
   "metadata": {},
   "outputs": [
    {
     "name": "stdout",
     "output_type": "stream",
     "text": [
      "0.25\n"
     ]
    },
    {
     "data": {
      "image/png": "[encoded data removed]",
      "text/plain": [
       "<Figure size 432x288 with 1 Axes>"
      ]
     },
     "metadata": {
      "needs_background": "light"
     },
     "output_type": "display_data"
    }
   ],
   "source": [
    "f, Pxx_den = signal.welch(abd[plot_range], 64, nfft=1024)\n",
    "print(f[np.argmax(Pxx_den)])\n",
    "plt.semilogy(f, Pxx_den)\n",
    "#plt.ylim([0.5e-3, 1])\n",
    "plt.xlabel('frequency [Hz]')\n",
    "plt.ylabel('PSD [V**2/Hz]')\n",
    "plt.show()"
   ]
  },
  {
   "cell_type": "code",
   "execution_count": 234,
   "metadata": {},
   "outputs": [
    {
     "data": {
      "text/plain": [
       "array([ True,  True,  True,  True,  True,  True,  True,  True])"
      ]
     },
     "execution_count": 234,
     "metadata": {},
     "output_type": "execute_result"
    }
   ],
   "source": [
    "np.logical_and(f >= 0.12, f <= 0.585)[2:10]"
   ]
  },
  {
   "cell_type": "code",
   "execution_count": 227,
   "metadata": {},
   "outputs": [
    {
     "data": {
      "text/plain": [
       "array([ 0.    ,  0.0625,  0.125 ,  0.1875,  0.25  ,  0.3125,  0.375 ,\n",
       "        0.4375,  0.5   ,  0.5625,  0.625 ,  0.6875,  0.75  ,  0.8125,\n",
       "        0.875 ,  0.9375,  1.    ,  1.0625,  1.125 ,  1.1875,  1.25  ,\n",
       "        1.3125,  1.375 ,  1.4375,  1.5   ,  1.5625,  1.625 ,  1.6875,\n",
       "        1.75  ,  1.8125,  1.875 ,  1.9375,  2.    ,  2.0625,  2.125 ,\n",
       "        2.1875,  2.25  ,  2.3125,  2.375 ,  2.4375,  2.5   ,  2.5625,\n",
       "        2.625 ,  2.6875,  2.75  ,  2.8125,  2.875 ,  2.9375,  3.    ,\n",
       "        3.0625,  3.125 ,  3.1875,  3.25  ,  3.3125,  3.375 ,  3.4375,\n",
       "        3.5   ,  3.5625,  3.625 ,  3.6875,  3.75  ,  3.8125,  3.875 ,\n",
       "        3.9375,  4.    ,  4.0625,  4.125 ,  4.1875,  4.25  ,  4.3125,\n",
       "        4.375 ,  4.4375,  4.5   ,  4.5625,  4.625 ,  4.6875,  4.75  ,\n",
       "        4.8125,  4.875 ,  4.9375,  5.    ,  5.0625,  5.125 ,  5.1875,\n",
       "        5.25  ,  5.3125,  5.375 ,  5.4375,  5.5   ,  5.5625,  5.625 ,\n",
       "        5.6875,  5.75  ,  5.8125,  5.875 ,  5.9375,  6.    ,  6.0625,\n",
       "        6.125 ,  6.1875,  6.25  ,  6.3125,  6.375 ,  6.4375,  6.5   ,\n",
       "        6.5625,  6.625 ,  6.6875,  6.75  ,  6.8125,  6.875 ,  6.9375,\n",
       "        7.    ,  7.0625,  7.125 ,  7.1875,  7.25  ,  7.3125,  7.375 ,\n",
       "        7.4375,  7.5   ,  7.5625,  7.625 ,  7.6875,  7.75  ,  7.8125,\n",
       "        7.875 ,  7.9375,  8.    ,  8.0625,  8.125 ,  8.1875,  8.25  ,\n",
       "        8.3125,  8.375 ,  8.4375,  8.5   ,  8.5625,  8.625 ,  8.6875,\n",
       "        8.75  ,  8.8125,  8.875 ,  8.9375,  9.    ,  9.0625,  9.125 ,\n",
       "        9.1875,  9.25  ,  9.3125,  9.375 ,  9.4375,  9.5   ,  9.5625,\n",
       "        9.625 ,  9.6875,  9.75  ,  9.8125,  9.875 ,  9.9375, 10.    ,\n",
       "       10.0625, 10.125 , 10.1875, 10.25  , 10.3125, 10.375 , 10.4375,\n",
       "       10.5   , 10.5625, 10.625 , 10.6875, 10.75  , 10.8125, 10.875 ,\n",
       "       10.9375, 11.    , 11.0625, 11.125 , 11.1875, 11.25  , 11.3125,\n",
       "       11.375 , 11.4375, 11.5   , 11.5625, 11.625 , 11.6875, 11.75  ,\n",
       "       11.8125, 11.875 , 11.9375, 12.    , 12.0625, 12.125 , 12.1875,\n",
       "       12.25  , 12.3125, 12.375 , 12.4375, 12.5   , 12.5625, 12.625 ,\n",
       "       12.6875, 12.75  , 12.8125, 12.875 , 12.9375, 13.    , 13.0625,\n",
       "       13.125 , 13.1875, 13.25  , 13.3125, 13.375 , 13.4375, 13.5   ,\n",
       "       13.5625, 13.625 , 13.6875, 13.75  , 13.8125, 13.875 , 13.9375,\n",
       "       14.    , 14.0625, 14.125 , 14.1875, 14.25  , 14.3125, 14.375 ,\n",
       "       14.4375, 14.5   , 14.5625, 14.625 , 14.6875, 14.75  , 14.8125,\n",
       "       14.875 , 14.9375, 15.    , 15.0625, 15.125 , 15.1875, 15.25  ,\n",
       "       15.3125, 15.375 , 15.4375, 15.5   , 15.5625, 15.625 , 15.6875,\n",
       "       15.75  , 15.8125, 15.875 , 15.9375, 16.    , 16.0625, 16.125 ,\n",
       "       16.1875, 16.25  , 16.3125, 16.375 , 16.4375, 16.5   , 16.5625,\n",
       "       16.625 , 16.6875, 16.75  , 16.8125, 16.875 , 16.9375, 17.    ,\n",
       "       17.0625, 17.125 , 17.1875, 17.25  , 17.3125, 17.375 , 17.4375,\n",
       "       17.5   , 17.5625, 17.625 , 17.6875, 17.75  , 17.8125, 17.875 ,\n",
       "       17.9375, 18.    , 18.0625, 18.125 , 18.1875, 18.25  , 18.3125,\n",
       "       18.375 , 18.4375, 18.5   , 18.5625, 18.625 , 18.6875, 18.75  ,\n",
       "       18.8125, 18.875 , 18.9375, 19.    , 19.0625, 19.125 , 19.1875,\n",
       "       19.25  , 19.3125, 19.375 , 19.4375, 19.5   , 19.5625, 19.625 ,\n",
       "       19.6875, 19.75  , 19.8125, 19.875 , 19.9375, 20.    , 20.0625,\n",
       "       20.125 , 20.1875, 20.25  , 20.3125, 20.375 , 20.4375, 20.5   ,\n",
       "       20.5625, 20.625 , 20.6875, 20.75  , 20.8125, 20.875 , 20.9375,\n",
       "       21.    , 21.0625, 21.125 , 21.1875, 21.25  , 21.3125, 21.375 ,\n",
       "       21.4375, 21.5   , 21.5625, 21.625 , 21.6875, 21.75  , 21.8125,\n",
       "       21.875 , 21.9375, 22.    , 22.0625, 22.125 , 22.1875, 22.25  ,\n",
       "       22.3125, 22.375 , 22.4375, 22.5   , 22.5625, 22.625 , 22.6875,\n",
       "       22.75  , 22.8125, 22.875 , 22.9375, 23.    , 23.0625, 23.125 ,\n",
       "       23.1875, 23.25  , 23.3125, 23.375 , 23.4375, 23.5   , 23.5625,\n",
       "       23.625 , 23.6875, 23.75  , 23.8125, 23.875 , 23.9375, 24.    ,\n",
       "       24.0625, 24.125 , 24.1875, 24.25  , 24.3125, 24.375 , 24.4375,\n",
       "       24.5   , 24.5625, 24.625 , 24.6875, 24.75  , 24.8125, 24.875 ,\n",
       "       24.9375, 25.    , 25.0625, 25.125 , 25.1875, 25.25  , 25.3125,\n",
       "       25.375 , 25.4375, 25.5   , 25.5625, 25.625 , 25.6875, 25.75  ,\n",
       "       25.8125, 25.875 , 25.9375, 26.    , 26.0625, 26.125 , 26.1875,\n",
       "       26.25  , 26.3125, 26.375 , 26.4375, 26.5   , 26.5625, 26.625 ,\n",
       "       26.6875, 26.75  , 26.8125, 26.875 , 26.9375, 27.    , 27.0625,\n",
       "       27.125 , 27.1875, 27.25  , 27.3125, 27.375 , 27.4375, 27.5   ,\n",
       "       27.5625, 27.625 , 27.6875, 27.75  , 27.8125, 27.875 , 27.9375,\n",
       "       28.    , 28.0625, 28.125 , 28.1875, 28.25  , 28.3125, 28.375 ,\n",
       "       28.4375, 28.5   , 28.5625, 28.625 , 28.6875, 28.75  , 28.8125,\n",
       "       28.875 , 28.9375, 29.    , 29.0625, 29.125 , 29.1875, 29.25  ,\n",
       "       29.3125, 29.375 , 29.4375, 29.5   , 29.5625, 29.625 , 29.6875,\n",
       "       29.75  , 29.8125, 29.875 , 29.9375, 30.    , 30.0625, 30.125 ,\n",
       "       30.1875, 30.25  , 30.3125, 30.375 , 30.4375, 30.5   , 30.5625,\n",
       "       30.625 , 30.6875, 30.75  , 30.8125, 30.875 , 30.9375, 31.    ,\n",
       "       31.0625, 31.125 , 31.1875, 31.25  , 31.3125, 31.375 , 31.4375,\n",
       "       31.5   , 31.5625, 31.625 , 31.6875, 31.75  , 31.8125, 31.875 ,\n",
       "       31.9375, 32.    ])"
      ]
     },
     "execution_count": 227,
     "metadata": {},
     "output_type": "execute_result"
    }
   ],
   "source": [
    "f"
   ]
  },
  {
   "cell_type": "code",
   "execution_count": 135,
   "metadata": {},
   "outputs": [
    {
     "data": {
      "text/plain": [
       "array([0.00309576, 0.02228785, 0.01059706, 0.00301506, 0.00156199])"
      ]
     },
     "execution_count": 135,
     "metadata": {},
     "output_type": "execute_result"
    }
   ],
   "source": [
    "Pxx_den[:5]"
   ]
  },
  {
   "cell_type": "code",
   "execution_count": 139,
   "metadata": {},
   "outputs": [
    {
     "name": "stdout",
     "output_type": "stream",
     "text": [
      "0.25\n"
     ]
    },
    {
     "data": {
      "image/png": "[encoded data removed]",
      "text/plain": [
       "<Figure size 432x288 with 1 Axes>"
      ]
     },
     "metadata": {
      "needs_background": "light"
     },
     "output_type": "display_data"
    }
   ],
   "source": [
    "f, Pxx_den = signal.welch(chest, 64)\n",
    "print(f[np.argmax(Pxx_den)])\n",
    "plt.semilogy(f, Pxx_den)\n",
    "#plt.ylim([0.5e-3, 1])\n",
    "plt.xlabel('frequency [Hz]')\n",
    "plt.ylabel('PSD [V**2/Hz]')\n",
    "plt.show()"
   ]
  },
  {
   "cell_type": "code",
   "execution_count": null,
   "metadata": {},
   "outputs": [],
   "source": []
  }
 ],
 "metadata": {
  "kernelspec": {
   "display_name": "Python 3",
   "language": "python",
   "name": "python3"
  },
  "language_info": {
   "codemirror_mode": {
    "name": "ipython",
    "version": 3
   },
   "file_extension": ".py",
   "mimetype": "text/x-python",
   "name": "python",
   "nbconvert_exporter": "python",
   "pygments_lexer": "ipython3",
   "version": "3.7.4"
  }
 },
 "nbformat": 4,
 "nbformat_minor": 4
}
